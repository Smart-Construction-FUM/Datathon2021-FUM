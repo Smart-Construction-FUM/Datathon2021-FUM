{
  "nbformat": 4,
  "nbformat_minor": 0,
  "metadata": {
    "colab": {
      "name": "Datapex_datathon2022.ipynb",
      "provenance": [],
      "collapsed_sections": [],
      "mount_file_id": "1p9L-tIEi4jxodJTRU_hqQyaycyaNIbwl",
      "authorship_tag": "ABX9TyNarEfxPm3yVF7nwiCurwVC",
      "include_colab_link": true
    },
    "kernelspec": {
      "name": "python3",
      "display_name": "Python 3"
    },
    "language_info": {
      "name": "python"
    }
  },
  "cells": [
    {
      "cell_type": "markdown",
      "metadata": {
        "id": "view-in-github",
        "colab_type": "text"
      },
      "source": [
        "<a href=\"https://colab.research.google.com/github/Smart-Construction-FUM/Datathon2021-FUM/blob/main/Datapex_datathon2022.ipynb\" target=\"_parent\"><img src=\"https://colab.research.google.com/assets/colab-badge.svg\" alt=\"Open In Colab\"/></a>"
      ]
    },
    {
      "cell_type": "code",
      "source": [
        "from tensorflow.keras.layers import Conv2D, Flatten, Dense, MaxPool2D, BatchNormalization, GlobalAveragePooling2D\n",
        "from tensorflow.keras.applications.resnet50 import ResNet50, preprocess_input, decode_predictions\n",
        "from tensorflow.keras.preprocessing import image\n",
        "from tensorflow.keras.preprocessing.image import ImageDataGenerator, load_img\n",
        "from tensorflow.keras.models import Sequential, Model"
      ],
      "metadata": {
        "id": "bxD3Pzlwc43h"
      },
      "execution_count": 1,
      "outputs": []
    },
    {
      "cell_type": "code",
      "source": [
        "import matplotlib.pyplot as plt\n",
        "import numpy as np"
      ],
      "metadata": {
        "id": "F2o-v76Mc6mJ"
      },
      "execution_count": 2,
      "outputs": []
    },
    {
      "cell_type": "code",
      "source": [
        "train_data_dir = \"/content/drive/MyDrive/processed_data/train\"\n",
        "test_data_dir = \"/content/drive/MyDrive/processed_data/test\"\n",
        "valid_data_dir = \"/content/drive/MyDrive/processed_data/val\""
      ],
      "metadata": {
        "id": "pfa_4DalgT0t"
      },
      "execution_count": 3,
      "outputs": []
    },
    {
      "cell_type": "code",
      "source": [
        "IMG_HEIGHT, IMG_WIDTH = (224, 224)\n",
        "BATCH_SIZE = 32"
      ],
      "metadata": {
        "id": "Tchx1FE5gkBy"
      },
      "execution_count": 4,
      "outputs": []
    },
    {
      "cell_type": "code",
      "source": [
        "train_datagen = ImageDataGenerator(\n",
        "    preprocessing_function=preprocess_input,\n",
        "    shear_range=0.2,\n",
        "    zoom_range=0.2,\n",
        "    horizontal_flip=True)\n",
        "\n",
        "test_datagen = ImageDataGenerator(\n",
        "    preprocessing_function=preprocess_input)\n",
        "\n",
        "\n",
        "train_generator = train_datagen.flow_from_directory(\n",
        "    train_data_dir,\n",
        "    target_size=(IMG_HEIGHT, IMG_WIDTH),\n",
        "    batch_size=BATCH_SIZE,\n",
        "    class_mode=\"categorical\")\n",
        "\n",
        "valid_generator = train_datagen.flow_from_directory(\n",
        "    valid_data_dir,\n",
        "    target_size=(IMG_HEIGHT, IMG_WIDTH),\n",
        "    batch_size=BATCH_SIZE,\n",
        "    class_mode=\"categorical\")\n",
        "\n",
        "\n",
        "test_generator = test_datagen.flow_from_directory(\n",
        "    test_data_dir,\n",
        "    target_size=(IMG_HEIGHT, IMG_WIDTH),\n",
        "    batch_size=1,\n",
        "    class_mode=\"categorical\")\n",
        "\n",
        "\n",
        "EPOCHS = 20\n",
        "\n",
        "base_model = ResNet50(include_top=False, weights=\"imagenet\")\n",
        "\n",
        "x = base_model.output\n",
        "x = GlobalAveragePooling2D()(x)\n",
        "x = Dense(1024, activation=\"relu\")(x)\n",
        "\n",
        "predictions = Dense(train_generator.num_classes, activation=\"softmax\")(x)\n",
        "model = Model(inputs=base_model.input, outputs=predictions)\n",
        "\n",
        "for layer in base_model.layers:\n",
        "    layer.trainable = False\n",
        "    \n",
        "model.compile(\n",
        "    optimizer=\"adam\",\n",
        "    loss=\"categorical_crossentropy\",\n",
        "    metrics=[\"acc\"])\n",
        "\n",
        "\n",
        "\n",
        "\n",
        "history = model.fit(train_generator,\n",
        "                    validation_data=valid_generator,\n",
        "                    epochs=EPOCHS)"
      ],
      "metadata": {
        "colab": {
          "base_uri": "https://localhost:8080/"
        },
        "id": "dEQKnNyaddAc",
        "outputId": "cfdda3ac-aecf-4953-a9f8-2fd367995e1d"
      },
      "execution_count": 8,
      "outputs": [
        {
          "output_type": "stream",
          "name": "stdout",
          "text": [
            "Found 797 images belonging to 5 classes.\n",
            "Found 311 images belonging to 5 classes.\n",
            "Found 247 images belonging to 5 classes.\n",
            "Epoch 1/20\n",
            "25/25 [==============================] - 214s 9s/step - loss: 0.9652 - acc: 0.7516 - val_loss: 0.3378 - val_acc: 0.8875\n",
            "Epoch 2/20\n",
            "25/25 [==============================] - 174s 7s/step - loss: 0.2052 - acc: 0.9360 - val_loss: 0.1925 - val_acc: 0.9550\n",
            "Epoch 3/20\n",
            "25/25 [==============================] - 175s 7s/step - loss: 0.1549 - acc: 0.9385 - val_loss: 0.2942 - val_acc: 0.9132\n",
            "Epoch 4/20\n",
            "25/25 [==============================] - 177s 7s/step - loss: 0.1214 - acc: 0.9598 - val_loss: 0.2755 - val_acc: 0.9293\n",
            "Epoch 5/20\n",
            "25/25 [==============================] - 174s 7s/step - loss: 0.1013 - acc: 0.9699 - val_loss: 0.2373 - val_acc: 0.9518\n",
            "Epoch 6/20\n",
            "25/25 [==============================] - 177s 7s/step - loss: 0.1082 - acc: 0.9661 - val_loss: 0.3852 - val_acc: 0.9068\n",
            "Epoch 7/20\n",
            "25/25 [==============================] - 174s 7s/step - loss: 0.1113 - acc: 0.9636 - val_loss: 0.2676 - val_acc: 0.9228\n",
            "Epoch 8/20\n",
            "25/25 [==============================] - 175s 7s/step - loss: 0.0687 - acc: 0.9762 - val_loss: 0.2420 - val_acc: 0.9453\n",
            "Epoch 9/20\n",
            "25/25 [==============================] - 174s 7s/step - loss: 0.0700 - acc: 0.9749 - val_loss: 0.2871 - val_acc: 0.9132\n",
            "Epoch 10/20\n",
            "25/25 [==============================] - 173s 7s/step - loss: 0.0498 - acc: 0.9875 - val_loss: 0.3593 - val_acc: 0.9100\n",
            "Epoch 11/20\n",
            "25/25 [==============================] - 175s 7s/step - loss: 0.0569 - acc: 0.9787 - val_loss: 0.2612 - val_acc: 0.9421\n",
            "Epoch 12/20\n",
            "25/25 [==============================] - 172s 7s/step - loss: 0.0647 - acc: 0.9762 - val_loss: 0.2805 - val_acc: 0.9421\n",
            "Epoch 13/20\n",
            "25/25 [==============================] - 175s 7s/step - loss: 0.0604 - acc: 0.9774 - val_loss: 0.3812 - val_acc: 0.9003\n",
            "Epoch 14/20\n",
            "25/25 [==============================] - 173s 7s/step - loss: 0.0549 - acc: 0.9749 - val_loss: 0.2987 - val_acc: 0.9421\n",
            "Epoch 15/20\n",
            "25/25 [==============================] - 173s 7s/step - loss: 0.0519 - acc: 0.9812 - val_loss: 0.2876 - val_acc: 0.9421\n",
            "Epoch 16/20\n",
            "25/25 [==============================] - 174s 7s/step - loss: 0.0254 - acc: 0.9900 - val_loss: 0.2551 - val_acc: 0.9453\n",
            "Epoch 17/20\n",
            "25/25 [==============================] - 174s 7s/step - loss: 0.0410 - acc: 0.9787 - val_loss: 0.1914 - val_acc: 0.9550\n",
            "Epoch 18/20\n",
            "25/25 [==============================] - 207s 8s/step - loss: 0.0662 - acc: 0.9799 - val_loss: 0.2623 - val_acc: 0.9486\n",
            "Epoch 19/20\n",
            "25/25 [==============================] - 172s 7s/step - loss: 0.0470 - acc: 0.9824 - val_loss: 0.2179 - val_acc: 0.9711\n",
            "Epoch 20/20\n",
            "25/25 [==============================] - 183s 7s/step - loss: 0.0465 - acc: 0.9812 - val_loss: 0.3173 - val_acc: 0.9293\n"
          ]
        }
      ]
    },
    {
      "cell_type": "code",
      "source": [
        "model.save(\"/content/drive/MyDrive/processed_data/saved_model/ResNet50_Debris.h5\")"
      ],
      "metadata": {
        "id": "jPF4sdsYBO1x"
      },
      "execution_count": 9,
      "outputs": []
    },
    {
      "cell_type": "code",
      "source": [
        "test_loss,test_acc = model.evaluate(test_generator,verbose=2)\n",
        "print('\\nTest Accuracy:',test_acc)"
      ],
      "metadata": {
        "colab": {
          "base_uri": "https://localhost:8080/"
        },
        "id": "lRVLI6LJBq5o",
        "outputId": "91762de5-9061-4850-e0cb-618502f5ac64"
      },
      "execution_count": 10,
      "outputs": [
        {
          "output_type": "stream",
          "name": "stdout",
          "text": [
            "247/247 - 87s - loss: 0.3662 - acc: 0.9190 - 87s/epoch - 350ms/step\n",
            "\n",
            "Test Accuracy: 0.9190283417701721\n"
          ]
        }
      ]
    },
    {
      "cell_type": "code",
      "source": [
        "import pandas as pd\n",
        "import seaborn as sn\n",
        "import tensorflow as tf\n",
        "\n",
        "model = tf.keras.models.load_model(\"/content/drive/MyDrive/processed_data/saved_model/ResNet50_Debris.h5\")\n",
        "filenames = test_generator.filenames\n",
        "nb_samples = len(test_generator)\n",
        "y_prob=[]\n",
        "y_act=[]\n",
        "test_generator.reset()\n"
      ],
      "metadata": {
        "id": "1ddSH-MLB701"
      },
      "execution_count": 11,
      "outputs": []
    },
    {
      "cell_type": "code",
      "source": [
        "for _ in range(nb_samples):\n",
        "  X_test, Y_test = test_generator.next()\n",
        "  y_prob.append(model.predict(X_test))\n",
        "  y_act.append(Y_test)"
      ],
      "metadata": {
        "id": "QYdvKnfxC-WD"
      },
      "execution_count": 12,
      "outputs": []
    },
    {
      "cell_type": "code",
      "source": [
        "predicted_class = [list(train_generator.class_indices.keys())[i.argmax()] for i in y_prob]\n",
        "actual_class = [list(train_generator.class_indices.keys())[i.argmax()] for i in y_act]\n",
        "\n",
        "out_df = pd.DataFrame(np.vstack([predicted_class,actual_class]).T,columns = ['predicted_class','actual_class'])\n",
        "confusion_matrix = pd.crosstab(out_df['actual_class'],out_df['predicted_class'],rownames=['Actual'],colnames=['predicted'])\n",
        "sn.heatmap(confusion_matrix,cmap = 'Blues',annot = True, fmt = 'd')\n",
        "plt.show()\n",
        "print('test accuracy: {}'.format((np.diagonal(confusion_matrix).sum()/confusion_matrix.sum().sum()*100)))"
      ],
      "metadata": {
        "colab": {
          "base_uri": "https://localhost:8080/",
          "height": 298
        },
        "id": "_A4xq8c2D54v",
        "outputId": "2cc6ea4d-ddd7-4ecf-e80f-434a4afcd8e2"
      },
      "execution_count": 13,
      "outputs": [
        {
          "output_type": "display_data",
          "data": {
            "text/plain": [
              "<Figure size 432x288 with 2 Axes>"
            ],
            "image/png": "[encoded data removed]"
          },
          "metadata": {
            "needs_background": "light"
          }
        },
        {
          "output_type": "stream",
          "name": "stdout",
          "text": [
            "test accuracy: 91.90283400809717\n"
          ]
        }
      ]
    },
    {
      "cell_type": "code",
      "source": [
        ""
      ],
      "metadata": {
        "id": "Xr7o-jq5FcFa"
      },
      "execution_count": null,
      "outputs": []
    }
  ]
}