{
  "nbformat": 4,
  "nbformat_minor": 0,
  "metadata": {
    "accelerator": "GPU",
    "colab": {
      "name": "Copy of Datapex4.ipynb",
      "provenance": [],
      "include_colab_link": true
    },
    "kernelspec": {
      "display_name": "Python 3",
      "name": "python3"
    },
    "language_info": {
      "name": "python"
    }
  },
  "cells": [
    {
      "cell_type": "markdown",
      "metadata": {
        "id": "view-in-github",
        "colab_type": "text"
      },
      "source": [
        "<a href=\"https://colab.research.google.com/github/Smart-Construction-FUM/Datathon2021-FUM/blob/main/Datapex_final.ipynb\" target=\"_parent\"><img src=\"https://colab.research.google.com/assets/colab-badge.svg\" alt=\"Open In Colab\"/></a>"
      ]
    },
    {
      "cell_type": "markdown",
      "metadata": {
        "id": "hKLGxeqbm2Sb"
      },
      "source": [
        "# Written by Datapex Team"
      ]
    },
    {
      "cell_type": "code",
      "metadata": {
        "id": "c39NefXbqSSl"
      },
      "source": [
        ""
      ],
      "execution_count": null,
      "outputs": []
    },
    {
      "cell_type": "markdown",
      "metadata": {
        "id": "y9F_pPYsqTCV"
      },
      "source": [
        ""
      ]
    },
    {
      "cell_type": "code",
      "metadata": {
        "colab": {
          "base_uri": "https://localhost:8080/"
        },
        "id": "dQ8Q_rBrbos0",
        "outputId": "8116c7ed-929a-4b2d-e1a4-e10b1b651858"
      },
      "source": [
        "!git clone --depth=1 https://github.com/QingyongHu/RandLA-Net"
      ],
      "execution_count": null,
      "outputs": [
        {
          "output_type": "stream",
          "name": "stdout",
          "text": [
            "Cloning into 'RandLA-Net'...\n",
            "remote: Enumerating objects: 59, done.\u001b[K\n",
            "remote: Counting objects: 100% (59/59), done.\u001b[K\n",
            "remote: Compressing objects: 100% (55/55), done.\u001b[K\n",
            "remote: Total 59 (delta 6), reused 45 (delta 2), pack-reused 0\u001b[K\n",
            "Unpacking objects: 100% (59/59), done.\n"
          ]
        }
      ]
    },
    {
      "cell_type": "code",
      "metadata": {
        "colab": {
          "base_uri": "https://localhost:8080/"
        },
        "id": "QXg5b5vpb63T",
        "outputId": "3b4a7e4d-6305-42c3-a149-acc663fac8b9"
      },
      "source": [
        "!pip install tensorflow=='1.15'"
      ],
      "execution_count": null,
      "outputs": [
        {
          "output_type": "stream",
          "name": "stdout",
          "text": [
            "Collecting tensorflow==1.15\n",
            "  Downloading tensorflow-1.15.0-cp37-cp37m-manylinux2010_x86_64.whl (412.3 MB)\n",
            "\u001b[K     |████████████████████████████████| 412.3 MB 24 kB/s \n",
            "\u001b[?25hCollecting keras-applications>=1.0.8\n",
            "  Downloading Keras_Applications-1.0.8-py3-none-any.whl (50 kB)\n",
            "\u001b[K     |████████████████████████████████| 50 kB 5.9 MB/s \n",
            "\u001b[?25hRequirement already satisfied: wrapt>=1.11.1 in /usr/local/lib/python3.7/dist-packages (from tensorflow==1.15) (1.12.1)\n",
            "Collecting tensorflow-estimator==1.15.1\n",
            "  Downloading tensorflow_estimator-1.15.1-py2.py3-none-any.whl (503 kB)\n",
            "\u001b[K     |████████████████████████████████| 503 kB 46.2 MB/s \n",
            "\u001b[?25hRequirement already satisfied: numpy<2.0,>=1.16.0 in /usr/local/lib/python3.7/dist-packages (from tensorflow==1.15) (1.19.5)\n",
            "Requirement already satisfied: google-pasta>=0.1.6 in /usr/local/lib/python3.7/dist-packages (from tensorflow==1.15) (0.2.0)\n",
            "Requirement already satisfied: opt-einsum>=2.3.2 in /usr/local/lib/python3.7/dist-packages (from tensorflow==1.15) (3.3.0)\n",
            "Requirement already satisfied: protobuf>=3.6.1 in /usr/local/lib/python3.7/dist-packages (from tensorflow==1.15) (3.17.3)\n",
            "Requirement already satisfied: grpcio>=1.8.6 in /usr/local/lib/python3.7/dist-packages (from tensorflow==1.15) (1.39.0)\n",
            "Requirement already satisfied: wheel>=0.26 in /usr/local/lib/python3.7/dist-packages (from tensorflow==1.15) (0.37.0)\n",
            "Requirement already satisfied: keras-preprocessing>=1.0.5 in /usr/local/lib/python3.7/dist-packages (from tensorflow==1.15) (1.1.2)\n",
            "Requirement already satisfied: termcolor>=1.1.0 in /usr/local/lib/python3.7/dist-packages (from tensorflow==1.15) (1.1.0)\n",
            "Collecting gast==0.2.2\n",
            "  Downloading gast-0.2.2.tar.gz (10 kB)\n",
            "Requirement already satisfied: six>=1.10.0 in /usr/local/lib/python3.7/dist-packages (from tensorflow==1.15) (1.15.0)\n",
            "Requirement already satisfied: astor>=0.6.0 in /usr/local/lib/python3.7/dist-packages (from tensorflow==1.15) (0.8.1)\n",
            "Collecting tensorboard<1.16.0,>=1.15.0\n",
            "  Downloading tensorboard-1.15.0-py3-none-any.whl (3.8 MB)\n",
            "\u001b[K     |████████████████████████████████| 3.8 MB 40.5 MB/s \n",
            "\u001b[?25hRequirement already satisfied: absl-py>=0.7.0 in /usr/local/lib/python3.7/dist-packages (from tensorflow==1.15) (0.12.0)\n",
            "Requirement already satisfied: h5py in /usr/local/lib/python3.7/dist-packages (from keras-applications>=1.0.8->tensorflow==1.15) (3.1.0)\n",
            "Requirement already satisfied: setuptools>=41.0.0 in /usr/local/lib/python3.7/dist-packages (from tensorboard<1.16.0,>=1.15.0->tensorflow==1.15) (57.4.0)\n",
            "Requirement already satisfied: markdown>=2.6.8 in /usr/local/lib/python3.7/dist-packages (from tensorboard<1.16.0,>=1.15.0->tensorflow==1.15) (3.3.4)\n",
            "Requirement already satisfied: werkzeug>=0.11.15 in /usr/local/lib/python3.7/dist-packages (from tensorboard<1.16.0,>=1.15.0->tensorflow==1.15) (1.0.1)\n",
            "Requirement already satisfied: importlib-metadata in /usr/local/lib/python3.7/dist-packages (from markdown>=2.6.8->tensorboard<1.16.0,>=1.15.0->tensorflow==1.15) (4.6.4)\n",
            "Requirement already satisfied: cached-property in /usr/local/lib/python3.7/dist-packages (from h5py->keras-applications>=1.0.8->tensorflow==1.15) (1.5.2)\n",
            "Requirement already satisfied: zipp>=0.5 in /usr/local/lib/python3.7/dist-packages (from importlib-metadata->markdown>=2.6.8->tensorboard<1.16.0,>=1.15.0->tensorflow==1.15) (3.5.0)\n",
            "Requirement already satisfied: typing-extensions>=3.6.4 in /usr/local/lib/python3.7/dist-packages (from importlib-metadata->markdown>=2.6.8->tensorboard<1.16.0,>=1.15.0->tensorflow==1.15) (3.7.4.3)\n",
            "Building wheels for collected packages: gast\n",
            "  Building wheel for gast (setup.py) ... \u001b[?25l\u001b[?25hdone\n",
            "  Created wheel for gast: filename=gast-0.2.2-py3-none-any.whl size=7554 sha256=c908630c8f53ba38f62a74b9fe2057c364cdba45531e8166541291fc79925062\n",
            "  Stored in directory: /root/.cache/pip/wheels/21/7f/02/420f32a803f7d0967b48dd823da3f558c5166991bfd204eef3\n",
            "Successfully built gast\n",
            "Installing collected packages: tensorflow-estimator, tensorboard, keras-applications, gast, tensorflow\n",
            "  Attempting uninstall: tensorflow-estimator\n",
            "    Found existing installation: tensorflow-estimator 2.6.0\n",
            "    Uninstalling tensorflow-estimator-2.6.0:\n",
            "      Successfully uninstalled tensorflow-estimator-2.6.0\n",
            "  Attempting uninstall: tensorboard\n",
            "    Found existing installation: tensorboard 2.6.0\n",
            "    Uninstalling tensorboard-2.6.0:\n",
            "      Successfully uninstalled tensorboard-2.6.0\n",
            "  Attempting uninstall: gast\n",
            "    Found existing installation: gast 0.4.0\n",
            "    Uninstalling gast-0.4.0:\n",
            "      Successfully uninstalled gast-0.4.0\n",
            "  Attempting uninstall: tensorflow\n",
            "    Found existing installation: tensorflow 2.6.0\n",
            "    Uninstalling tensorflow-2.6.0:\n",
            "      Successfully uninstalled tensorflow-2.6.0\n",
            "\u001b[31mERROR: pip's dependency resolver does not currently take into account all the packages that are installed. This behaviour is the source of the following dependency conflicts.\n",
            "tensorflow-probability 0.13.0 requires gast>=0.3.2, but you have gast 0.2.2 which is incompatible.\n",
            "kapre 0.3.5 requires tensorflow>=2.0.0, but you have tensorflow 1.15.0 which is incompatible.\u001b[0m\n",
            "Successfully installed gast-0.2.2 keras-applications-1.0.8 tensorboard-1.15.0 tensorflow-1.15.0 tensorflow-estimator-1.15.1\n"
          ]
        }
      ]
    },
    {
      "cell_type": "code",
      "metadata": {
        "colab": {
          "base_uri": "https://localhost:8080/"
        },
        "id": "q6mWF8aEb-X7",
        "outputId": "c33dc3f9-d080-4721-acf3-9ce2faf66b71"
      },
      "source": [
        "!pip install open3d-python"
      ],
      "execution_count": null,
      "outputs": [
        {
          "output_type": "stream",
          "name": "stdout",
          "text": [
            "Collecting open3d-python\n",
            "  Downloading open3d_python-0.7.0.0-cp37-cp37m-manylinux1_x86_64.whl (3.7 MB)\n",
            "\u001b[K     |████████████████████████████████| 3.7 MB 11.0 MB/s \n",
            "\u001b[?25hRequirement already satisfied: ipywidgets in /usr/local/lib/python3.7/dist-packages (from open3d-python) (7.6.3)\n",
            "Requirement already satisfied: notebook in /usr/local/lib/python3.7/dist-packages (from open3d-python) (5.3.1)\n",
            "Requirement already satisfied: widgetsnbextension in /usr/local/lib/python3.7/dist-packages (from open3d-python) (3.5.1)\n",
            "Requirement already satisfied: numpy in /usr/local/lib/python3.7/dist-packages (from open3d-python) (1.19.5)\n",
            "Requirement already satisfied: nbformat>=4.2.0 in /usr/local/lib/python3.7/dist-packages (from ipywidgets->open3d-python) (5.1.3)\n",
            "Requirement already satisfied: ipykernel>=4.5.1 in /usr/local/lib/python3.7/dist-packages (from ipywidgets->open3d-python) (4.10.1)\n",
            "Requirement already satisfied: traitlets>=4.3.1 in /usr/local/lib/python3.7/dist-packages (from ipywidgets->open3d-python) (5.0.5)\n",
            "Requirement already satisfied: jupyterlab-widgets>=1.0.0 in /usr/local/lib/python3.7/dist-packages (from ipywidgets->open3d-python) (1.0.0)\n",
            "Requirement already satisfied: ipython>=4.0.0 in /usr/local/lib/python3.7/dist-packages (from ipywidgets->open3d-python) (5.5.0)\n",
            "Requirement already satisfied: jupyter-client in /usr/local/lib/python3.7/dist-packages (from ipykernel>=4.5.1->ipywidgets->open3d-python) (5.3.5)\n",
            "Requirement already satisfied: tornado>=4.0 in /usr/local/lib/python3.7/dist-packages (from ipykernel>=4.5.1->ipywidgets->open3d-python) (5.1.1)\n",
            "Requirement already satisfied: decorator in /usr/local/lib/python3.7/dist-packages (from ipython>=4.0.0->ipywidgets->open3d-python) (4.4.2)\n",
            "Requirement already satisfied: setuptools>=18.5 in /usr/local/lib/python3.7/dist-packages (from ipython>=4.0.0->ipywidgets->open3d-python) (57.4.0)\n",
            "Requirement already satisfied: pexpect in /usr/local/lib/python3.7/dist-packages (from ipython>=4.0.0->ipywidgets->open3d-python) (4.8.0)\n",
            "Requirement already satisfied: pygments in /usr/local/lib/python3.7/dist-packages (from ipython>=4.0.0->ipywidgets->open3d-python) (2.6.1)\n",
            "Requirement already satisfied: pickleshare in /usr/local/lib/python3.7/dist-packages (from ipython>=4.0.0->ipywidgets->open3d-python) (0.7.5)\n",
            "Requirement already satisfied: simplegeneric>0.8 in /usr/local/lib/python3.7/dist-packages (from ipython>=4.0.0->ipywidgets->open3d-python) (0.8.1)\n",
            "Requirement already satisfied: prompt-toolkit<2.0.0,>=1.0.4 in /usr/local/lib/python3.7/dist-packages (from ipython>=4.0.0->ipywidgets->open3d-python) (1.0.18)\n",
            "Requirement already satisfied: ipython-genutils in /usr/local/lib/python3.7/dist-packages (from nbformat>=4.2.0->ipywidgets->open3d-python) (0.2.0)\n",
            "Requirement already satisfied: jupyter-core in /usr/local/lib/python3.7/dist-packages (from nbformat>=4.2.0->ipywidgets->open3d-python) (4.7.1)\n",
            "Requirement already satisfied: jsonschema!=2.5.0,>=2.4 in /usr/local/lib/python3.7/dist-packages (from nbformat>=4.2.0->ipywidgets->open3d-python) (2.6.0)\n",
            "Requirement already satisfied: six>=1.9.0 in /usr/local/lib/python3.7/dist-packages (from prompt-toolkit<2.0.0,>=1.0.4->ipython>=4.0.0->ipywidgets->open3d-python) (1.15.0)\n",
            "Requirement already satisfied: wcwidth in /usr/local/lib/python3.7/dist-packages (from prompt-toolkit<2.0.0,>=1.0.4->ipython>=4.0.0->ipywidgets->open3d-python) (0.2.5)\n",
            "Requirement already satisfied: jinja2 in /usr/local/lib/python3.7/dist-packages (from notebook->open3d-python) (2.11.3)\n",
            "Requirement already satisfied: terminado>=0.8.1 in /usr/local/lib/python3.7/dist-packages (from notebook->open3d-python) (0.11.0)\n",
            "Requirement already satisfied: nbconvert in /usr/local/lib/python3.7/dist-packages (from notebook->open3d-python) (5.6.1)\n",
            "Requirement already satisfied: Send2Trash in /usr/local/lib/python3.7/dist-packages (from notebook->open3d-python) (1.8.0)\n",
            "Requirement already satisfied: pyzmq>=13 in /usr/local/lib/python3.7/dist-packages (from jupyter-client->ipykernel>=4.5.1->ipywidgets->open3d-python) (22.2.1)\n",
            "Requirement already satisfied: python-dateutil>=2.1 in /usr/local/lib/python3.7/dist-packages (from jupyter-client->ipykernel>=4.5.1->ipywidgets->open3d-python) (2.8.2)\n",
            "Requirement already satisfied: ptyprocess in /usr/local/lib/python3.7/dist-packages (from terminado>=0.8.1->notebook->open3d-python) (0.7.0)\n",
            "Requirement already satisfied: MarkupSafe>=0.23 in /usr/local/lib/python3.7/dist-packages (from jinja2->notebook->open3d-python) (2.0.1)\n",
            "Requirement already satisfied: pandocfilters>=1.4.1 in /usr/local/lib/python3.7/dist-packages (from nbconvert->notebook->open3d-python) (1.4.3)\n",
            "Requirement already satisfied: defusedxml in /usr/local/lib/python3.7/dist-packages (from nbconvert->notebook->open3d-python) (0.7.1)\n",
            "Requirement already satisfied: testpath in /usr/local/lib/python3.7/dist-packages (from nbconvert->notebook->open3d-python) (0.5.0)\n",
            "Requirement already satisfied: mistune<2,>=0.8.1 in /usr/local/lib/python3.7/dist-packages (from nbconvert->notebook->open3d-python) (0.8.4)\n",
            "Requirement already satisfied: bleach in /usr/local/lib/python3.7/dist-packages (from nbconvert->notebook->open3d-python) (4.0.0)\n",
            "Requirement already satisfied: entrypoints>=0.2.2 in /usr/local/lib/python3.7/dist-packages (from nbconvert->notebook->open3d-python) (0.3)\n",
            "Requirement already satisfied: webencodings in /usr/local/lib/python3.7/dist-packages (from bleach->nbconvert->notebook->open3d-python) (0.5.1)\n",
            "Requirement already satisfied: packaging in /usr/local/lib/python3.7/dist-packages (from bleach->nbconvert->notebook->open3d-python) (21.0)\n",
            "Requirement already satisfied: pyparsing>=2.0.2 in /usr/local/lib/python3.7/dist-packages (from packaging->bleach->nbconvert->notebook->open3d-python) (2.4.7)\n",
            "Installing collected packages: open3d-python\n",
            "Successfully installed open3d-python-0.7.0.0\n"
          ]
        }
      ]
    },
    {
      "cell_type": "code",
      "metadata": {
        "colab": {
          "base_uri": "https://localhost:8080/"
        },
        "id": "PH2TDnPBcONz",
        "outputId": "d0848557-9809-4277-ebb9-957e41f53489"
      },
      "source": [
        "!pwd"
      ],
      "execution_count": null,
      "outputs": [
        {
          "name": "stdout",
          "output_type": "stream",
          "text": [
            "/content\n"
          ]
        }
      ]
    },
    {
      "cell_type": "code",
      "metadata": {
        "colab": {
          "base_uri": "https://localhost:8080/"
        },
        "id": "aM3qW0MSc4IK",
        "outputId": "d942aced-8811-4b45-9363-ee9c37ce5f76"
      },
      "source": [
        "!pip install scikit-learn==0.22.2"
      ],
      "execution_count": null,
      "outputs": [
        {
          "output_type": "stream",
          "name": "stdout",
          "text": [
            "Collecting scikit-learn==0.22.2\n",
            "  Downloading scikit_learn-0.22.2-cp37-cp37m-manylinux1_x86_64.whl (7.1 MB)\n",
            "\u001b[K     |████████████████████████████████| 7.1 MB 12.6 MB/s \n",
            "\u001b[?25hRequirement already satisfied: joblib>=0.11 in /usr/local/lib/python3.7/dist-packages (from scikit-learn==0.22.2) (1.0.1)\n",
            "Requirement already satisfied: scipy>=0.17.0 in /usr/local/lib/python3.7/dist-packages (from scikit-learn==0.22.2) (1.4.1)\n",
            "Requirement already satisfied: numpy>=1.11.0 in /usr/local/lib/python3.7/dist-packages (from scikit-learn==0.22.2) (1.19.5)\n",
            "Installing collected packages: scikit-learn\n",
            "  Attempting uninstall: scikit-learn\n",
            "    Found existing installation: scikit-learn 0.22.2.post1\n",
            "    Uninstalling scikit-learn-0.22.2.post1:\n",
            "      Successfully uninstalled scikit-learn-0.22.2.post1\n",
            "\u001b[31mERROR: pip's dependency resolver does not currently take into account all the packages that are installed. This behaviour is the source of the following dependency conflicts.\n",
            "kapre 0.3.5 requires tensorflow>=2.0.0, but you have tensorflow 1.15.0 which is incompatible.\u001b[0m\n",
            "Successfully installed scikit-learn-0.22.2\n"
          ]
        }
      ]
    },
    {
      "cell_type": "code",
      "metadata": {
        "colab": {
          "base_uri": "https://localhost:8080/"
        },
        "id": "2A1DpbZFciGT",
        "outputId": "cf4d6469-7dde-458c-940c-a4e8c9f14520"
      },
      "source": [
        "cd /content/RandLA-Net "
      ],
      "execution_count": null,
      "outputs": [
        {
          "output_type": "stream",
          "name": "stdout",
          "text": [
            "/content/RandLA-Net\n"
          ]
        }
      ]
    },
    {
      "cell_type": "code",
      "metadata": {
        "colab": {
          "base_uri": "https://localhost:8080/"
        },
        "id": "uYJ5NvKYck1D",
        "outputId": "aee3f1ca-d491-46f7-bc19-c84eb05f1cee"
      },
      "source": [
        "!sh compile_op.sh"
      ],
      "execution_count": null,
      "outputs": [
        {
          "output_type": "stream",
          "name": "stdout",
          "text": [
            "running install\n",
            "running build\n",
            "running build_ext\n",
            "cythoning knn.pyx to knn.cpp\n",
            "/usr/local/lib/python3.7/dist-packages/Cython/Compiler/Main.py:369: FutureWarning: Cython directive 'language_level' not set, using 2 for now (Py2). This will change in a later release! File: /content/RandLA-Net/utils/nearest_neighbors/knn.pyx\n",
            "  tree = Parsing.p_module(s, pxd, full_module_name)\n",
            "building 'nearest_neighbors' extension\n",
            "creating build\n",
            "creating build/temp.linux-x86_64-3.7\n",
            "x86_64-linux-gnu-gcc -pthread -Wno-unused-result -Wsign-compare -DNDEBUG -g -fwrapv -O2 -Wall -g -fdebug-prefix-map=/build/python3.7-LSlbJj/python3.7-3.7.11=. -fstack-protector-strong -Wformat -Werror=format-security -g -fdebug-prefix-map=/build/python3.7-LSlbJj/python3.7-3.7.11=. -fstack-protector-strong -Wformat -Werror=format-security -Wdate-time -D_FORTIFY_SOURCE=2 -fPIC -I./ -I/usr/local/lib/python3.7/dist-packages/numpy/core/include -I/usr/include/python3.7m -c knn.cpp -o build/temp.linux-x86_64-3.7/knn.o -std=c++11 -fopenmp\n",
            "In file included from \u001b[01m\u001b[K/usr/local/lib/python3.7/dist-packages/numpy/core/include/numpy/ndarraytypes.h:1822:0\u001b[m\u001b[K,\n",
            "                 from \u001b[01m\u001b[K/usr/local/lib/python3.7/dist-packages/numpy/core/include/numpy/ndarrayobject.h:12\u001b[m\u001b[K,\n",
            "                 from \u001b[01m\u001b[K/usr/local/lib/python3.7/dist-packages/numpy/core/include/numpy/arrayobject.h:4\u001b[m\u001b[K,\n",
            "                 from \u001b[01m\u001b[Kknn.cpp:634\u001b[m\u001b[K:\n",
            "\u001b[01m\u001b[K/usr/local/lib/python3.7/dist-packages/numpy/core/include/numpy/npy_1_7_deprecated_api.h:17:2:\u001b[m\u001b[K \u001b[01;35m\u001b[Kwarning: \u001b[m\u001b[K#warning \"Using deprecated NumPy API, disable it with \" \"#define NPY_NO_DEPRECATED_API NPY_1_7_API_VERSION\" [\u001b[01;35m\u001b[K-Wcpp\u001b[m\u001b[K]\n",
            " #\u001b[01;35m\u001b[Kwarning\u001b[m\u001b[K \"Using deprecated NumPy API, disable it with \" \\\n",
            "  \u001b[01;35m\u001b[K^~~~~~~\u001b[m\u001b[K\n",
            "x86_64-linux-gnu-gcc -pthread -Wno-unused-result -Wsign-compare -DNDEBUG -g -fwrapv -O2 -Wall -g -fdebug-prefix-map=/build/python3.7-LSlbJj/python3.7-3.7.11=. -fstack-protector-strong -Wformat -Werror=format-security -g -fdebug-prefix-map=/build/python3.7-LSlbJj/python3.7-3.7.11=. -fstack-protector-strong -Wformat -Werror=format-security -Wdate-time -D_FORTIFY_SOURCE=2 -fPIC -I./ -I/usr/local/lib/python3.7/dist-packages/numpy/core/include -I/usr/include/python3.7m -c knn_.cxx -o build/temp.linux-x86_64-3.7/knn_.o -std=c++11 -fopenmp\n",
            "In file included from \u001b[01m\u001b[Kknn_.cxx:6:0\u001b[m\u001b[K:\n",
            "KDTreeTableAdaptor.h: In instantiation of ‘\u001b[01m\u001b[KKDTreeTableAdaptor<TableType, num_t, DIM, Distance, IndexType>::KDTreeTableAdaptor(size_t, size_t, const TableType*, int) [with TableType = float; num_t = float; int DIM = -1; Distance = nanoflann::metric_L2; IndexType = long unsigned int; size_t = long unsigned int]\u001b[m\u001b[K’:\n",
            "\u001b[01m\u001b[Kknn_.cxx:28:40:\u001b[m\u001b[K   required from here\n",
            "\u001b[01m\u001b[KKDTreeTableAdaptor.h:131:19:\u001b[m\u001b[K \u001b[01;35m\u001b[Kwarning: \u001b[m\u001b[K‘\u001b[01m\u001b[KKDTreeTableAdaptor<float, float>::m_data\u001b[m\u001b[K’ will be initialized after [\u001b[01;35m\u001b[K-Wreorder\u001b[m\u001b[K]\n",
            "  const TableType* \u001b[01;35m\u001b[Km_data\u001b[m\u001b[K;\n",
            "                   \u001b[01;35m\u001b[K^~~~~~\u001b[m\u001b[K\n",
            "\u001b[01m\u001b[KKDTreeTableAdaptor.h:129:9:\u001b[m\u001b[K \u001b[01;35m\u001b[Kwarning: \u001b[m\u001b[K  ‘\u001b[01m\u001b[Ksize_t KDTreeTableAdaptor<float, float>::dim\u001b[m\u001b[K’ [\u001b[01;35m\u001b[K-Wreorder\u001b[m\u001b[K]\n",
            "  size_t \u001b[01;35m\u001b[Kdim\u001b[m\u001b[K;\n",
            "         \u001b[01;35m\u001b[K^~~\u001b[m\u001b[K\n",
            "\u001b[01m\u001b[KKDTreeTableAdaptor.h:134:2:\u001b[m\u001b[K \u001b[01;35m\u001b[Kwarning: \u001b[m\u001b[K  when initialized here [\u001b[01;35m\u001b[K-Wreorder\u001b[m\u001b[K]\n",
            "  \u001b[01;35m\u001b[KKDTreeTableAdaptor\u001b[m\u001b[K(const size_t npts, const size_t dim, const TableType* mat, const int leaf_max_size = 10) : m_data(mat), dim(dim), npts(npts)\n",
            "  \u001b[01;35m\u001b[K^~~~~~~~~~~~~~~~~~\u001b[m\u001b[K\n",
            "creating build/lib.linux-x86_64-3.7\n",
            "x86_64-linux-gnu-g++ -pthread -shared -Wl,-O1 -Wl,-Bsymbolic-functions -Wl,-Bsymbolic-functions -Wl,-z,relro -Wl,-Bsymbolic-functions -Wl,-z,relro -g -fdebug-prefix-map=/build/python3.7-LSlbJj/python3.7-3.7.11=. -fstack-protector-strong -Wformat -Werror=format-security -Wdate-time -D_FORTIFY_SOURCE=2 build/temp.linux-x86_64-3.7/knn.o build/temp.linux-x86_64-3.7/knn_.o -o build/lib.linux-x86_64-3.7/nearest_neighbors.cpython-37m-x86_64-linux-gnu.so -std=c++11 -fopenmp\n",
            "running install_lib\n",
            "creating lib\n",
            "creating lib/python\n",
            "copying build/lib.linux-x86_64-3.7/nearest_neighbors.cpython-37m-x86_64-linux-gnu.so -> ./lib/python\n",
            "running install_egg_info\n",
            "Writing ./lib/python/KNN_NanoFLANN-0.0.0.egg-info\n",
            "\u001b[39mrunning build_ext\u001b[0m\n",
            "\u001b[39mbuilding 'grid_subsampling' extension\u001b[0m\n",
            "\u001b[39mWarning: Can't read registry to find the necessary compiler setting\n",
            "Make sure that Python modules winreg, win32api or win32con are installed.\u001b[0m\n",
            "\u001b[39mC compiler: x86_64-linux-gnu-gcc -pthread -Wno-unused-result -Wsign-compare -DNDEBUG -g -fwrapv -O2 -Wall -g -fdebug-prefix-map=/build/python3.7-LSlbJj/python3.7-3.7.11=. -fstack-protector-strong -Wformat -Werror=format-security -g -fdebug-prefix-map=/build/python3.7-LSlbJj/python3.7-3.7.11=. -fstack-protector-strong -Wformat -Werror=format-security -Wdate-time -D_FORTIFY_SOURCE=2 -fPIC\n",
            "\u001b[0m\n",
            "\u001b[39mcreating build\u001b[0m\n",
            "\u001b[39mcreating build/temp.linux-x86_64-3.7\u001b[0m\n",
            "\u001b[39mcreating build/temp.linux-x86_64-3.7/cpp_wrappers\u001b[0m\n",
            "\u001b[39mcreating build/temp.linux-x86_64-3.7/cpp_wrappers/cpp_utils\u001b[0m\n",
            "\u001b[39mcreating build/temp.linux-x86_64-3.7/cpp_wrappers/cpp_utils/cloud\u001b[0m\n",
            "\u001b[39mcreating build/temp.linux-x86_64-3.7/grid_subsampling\u001b[0m\n",
            "\u001b[39mcompile options: '-I/usr/local/lib/python3.7/dist-packages/numpy/core/include -I/usr/include/python3.7m -c'\n",
            "extra options: '-std=c++11 -D_GLIBCXX_USE_CXX11_ABI=0'\u001b[0m\n",
            "\u001b[39mx86_64-linux-gnu-gcc: ../cpp_utils/cloud/cloud.cpp\u001b[0m\n",
            "\u001b[39mx86_64-linux-gnu-gcc: grid_subsampling/grid_subsampling.cpp\u001b[0m\n",
            "\u001b[01m\u001b[Kgrid_subsampling/grid_subsampling.cpp:\u001b[m\u001b[K In function ‘\u001b[01m\u001b[Kvoid grid_subsampling(std::vector<PointXYZ>&, std::vector<PointXYZ>&, std::vector<float>&, std::vector<float>&, std::vector<int>&, std::vector<int>&, float, int)\u001b[m\u001b[K’:\n",
            "\u001b[01m\u001b[Kgrid_subsampling/grid_subsampling.cpp:99:25:\u001b[m\u001b[K \u001b[01;35m\u001b[Kwarning: \u001b[m\u001b[Kcomparison between signed and unsigned integer expressions [\u001b[01;35m\u001b[K-Wsign-compare\u001b[m\u001b[K]\n",
            "       for (int i = 0; \u001b[01;35m\u001b[Ki < ldim\u001b[m\u001b[K; i++)\n",
            "                       \u001b[01;35m\u001b[K~~^~~~~~\u001b[m\u001b[K\n",
            "\u001b[39mx86_64-linux-gnu-gcc: wrapper.cpp\u001b[0m\n",
            "In file included from \u001b[01m\u001b[K/usr/local/lib/python3.7/dist-packages/numpy/core/include/numpy/ndarraytypes.h:1822:0\u001b[m\u001b[K,\n",
            "                 from \u001b[01m\u001b[K/usr/local/lib/python3.7/dist-packages/numpy/core/include/numpy/ndarrayobject.h:12\u001b[m\u001b[K,\n",
            "                 from \u001b[01m\u001b[K/usr/local/lib/python3.7/dist-packages/numpy/core/include/numpy/arrayobject.h:4\u001b[m\u001b[K,\n",
            "                 from \u001b[01m\u001b[Kwrapper.cpp:2\u001b[m\u001b[K:\n",
            "\u001b[01m\u001b[K/usr/local/lib/python3.7/dist-packages/numpy/core/include/numpy/npy_1_7_deprecated_api.h:17:2:\u001b[m\u001b[K \u001b[01;35m\u001b[Kwarning: \u001b[m\u001b[K#warning \"Using deprecated NumPy API, disable it with \" \"#define NPY_NO_DEPRECATED_API NPY_1_7_API_VERSION\" [\u001b[01;35m\u001b[K-Wcpp\u001b[m\u001b[K]\n",
            " #\u001b[01;35m\u001b[Kwarning\u001b[m\u001b[K \"Using deprecated NumPy API, disable it with \" \\\n",
            "  \u001b[01;35m\u001b[K^~~~~~~\u001b[m\u001b[K\n",
            "\u001b[01m\u001b[Kwrapper.cpp:\u001b[m\u001b[K In function ‘\u001b[01m\u001b[KPyObject* grid_subsampling_compute(PyObject*, PyObject*, PyObject*)\u001b[m\u001b[K’:\n",
            "\u001b[01m\u001b[Kwrapper.cpp:70:98:\u001b[m\u001b[K \u001b[01;35m\u001b[Kwarning: \u001b[m\u001b[KISO C++ forbids converting a string constant to ‘\u001b[01m\u001b[Kchar*\u001b[m\u001b[K’ [\u001b[01;35m\u001b[K-Wwrite-strings\u001b[m\u001b[K]\n",
            "  static char *kwlist[] = {\"points\", \"features\", \"classes\", \"sampleDl\", \"method\", \"verbose\", NULL \u001b[01;35m\u001b[K}\u001b[m\u001b[K;\n",
            "                                                                                                  \u001b[01;35m\u001b[K^\u001b[m\u001b[K\n",
            "\u001b[01m\u001b[Kwrapper.cpp:70:98:\u001b[m\u001b[K \u001b[01;35m\u001b[Kwarning: \u001b[m\u001b[KISO C++ forbids converting a string constant to ‘\u001b[01m\u001b[Kchar*\u001b[m\u001b[K’ [\u001b[01;35m\u001b[K-Wwrite-strings\u001b[m\u001b[K]\n",
            "\u001b[01m\u001b[Kwrapper.cpp:70:98:\u001b[m\u001b[K \u001b[01;35m\u001b[Kwarning: \u001b[m\u001b[KISO C++ forbids converting a string constant to ‘\u001b[01m\u001b[Kchar*\u001b[m\u001b[K’ [\u001b[01;35m\u001b[K-Wwrite-strings\u001b[m\u001b[K]\n",
            "\u001b[01m\u001b[Kwrapper.cpp:70:98:\u001b[m\u001b[K \u001b[01;35m\u001b[Kwarning: \u001b[m\u001b[KISO C++ forbids converting a string constant to ‘\u001b[01m\u001b[Kchar*\u001b[m\u001b[K’ [\u001b[01;35m\u001b[K-Wwrite-strings\u001b[m\u001b[K]\n",
            "\u001b[01m\u001b[Kwrapper.cpp:70:98:\u001b[m\u001b[K \u001b[01;35m\u001b[Kwarning: \u001b[m\u001b[KISO C++ forbids converting a string constant to ‘\u001b[01m\u001b[Kchar*\u001b[m\u001b[K’ [\u001b[01;35m\u001b[K-Wwrite-strings\u001b[m\u001b[K]\n",
            "\u001b[01m\u001b[Kwrapper.cpp:70:98:\u001b[m\u001b[K \u001b[01;35m\u001b[Kwarning: \u001b[m\u001b[KISO C++ forbids converting a string constant to ‘\u001b[01m\u001b[Kchar*\u001b[m\u001b[K’ [\u001b[01;35m\u001b[K-Wwrite-strings\u001b[m\u001b[K]\n",
            "\u001b[39mx86_64-linux-gnu-g++ -pthread -shared -Wl,-O1 -Wl,-Bsymbolic-functions -Wl,-Bsymbolic-functions -Wl,-z,relro -Wl,-Bsymbolic-functions -Wl,-z,relro -g -fdebug-prefix-map=/build/python3.7-LSlbJj/python3.7-3.7.11=. -fstack-protector-strong -Wformat -Werror=format-security -Wdate-time -D_FORTIFY_SOURCE=2 build/temp.linux-x86_64-3.7/cpp_wrappers/cpp_utils/cloud/cloud.o build/temp.linux-x86_64-3.7/grid_subsampling/grid_subsampling.o build/temp.linux-x86_64-3.7/wrapper.o -o /content/RandLA-Net/utils/cpp_wrappers/cpp_subsampling/grid_subsampling.cpython-37m-x86_64-linux-gnu.so\u001b[0m\n"
          ]
        }
      ]
    },
    {
      "cell_type": "code",
      "metadata": {
        "colab": {
          "base_uri": "https://localhost:8080/"
        },
        "id": "ql1ppGoXDKd_",
        "outputId": "d1858f54-b9bc-43f4-c2cd-6eb9772dbd62"
      },
      "source": [
        "!unzip /content/drive/MyDrive/Area_2.zip -d /content/RandLA-Net/data/S3DIS/Datathon"
      ],
      "execution_count": null,
      "outputs": [
        {
          "output_type": "stream",
          "name": "stdout",
          "text": [
            "Archive:  /content/drive/MyDrive/Area_2.zip\n",
            "   creating: /content/RandLA-Net/data/S3DIS/Datathon/Area_2/\n",
            "   creating: /content/RandLA-Net/data/S3DIS/Datathon/Area_2/scene_2/\n",
            "   creating: /content/RandLA-Net/data/S3DIS/Datathon/Area_2/scene_2/Annotations/\n",
            "  inflating: /content/RandLA-Net/data/S3DIS/Datathon/Area_2/scene_2/Annotations/door_1.txt  \n",
            "  inflating: /content/RandLA-Net/data/S3DIS/Datathon/Area_2/scene_2/Annotations/door_2.txt  \n",
            "  inflating: /content/RandLA-Net/data/S3DIS/Datathon/Area_2/scene_2/Annotations/roof_1.txt  \n",
            "  inflating: /content/RandLA-Net/data/S3DIS/Datathon/Area_2/scene_2/Annotations/roof_10.txt  \n",
            "  inflating: /content/RandLA-Net/data/S3DIS/Datathon/Area_2/scene_2/Annotations/roof_11.txt  \n",
            "  inflating: /content/RandLA-Net/data/S3DIS/Datathon/Area_2/scene_2/Annotations/roof_2.txt  \n",
            "  inflating: /content/RandLA-Net/data/S3DIS/Datathon/Area_2/scene_2/Annotations/roof_3.txt  \n",
            "  inflating: /content/RandLA-Net/data/S3DIS/Datathon/Area_2/scene_2/Annotations/roof_4.txt  \n",
            "  inflating: /content/RandLA-Net/data/S3DIS/Datathon/Area_2/scene_2/Annotations/roof_5.txt  \n",
            "  inflating: /content/RandLA-Net/data/S3DIS/Datathon/Area_2/scene_2/Annotations/roof_6.txt  \n",
            "  inflating: /content/RandLA-Net/data/S3DIS/Datathon/Area_2/scene_2/Annotations/roof_7.txt  \n",
            "  inflating: /content/RandLA-Net/data/S3DIS/Datathon/Area_2/scene_2/Annotations/roof_8.txt  \n",
            "  inflating: /content/RandLA-Net/data/S3DIS/Datathon/Area_2/scene_2/Annotations/roof_9.txt  \n",
            "  inflating: /content/RandLA-Net/data/S3DIS/Datathon/Area_2/scene_2/Annotations/wall_1.txt  \n",
            "  inflating: /content/RandLA-Net/data/S3DIS/Datathon/Area_2/scene_2/Annotations/wall_2.txt  \n",
            "  inflating: /content/RandLA-Net/data/S3DIS/Datathon/Area_2/scene_2/Annotations/wall_3.txt  \n",
            "  inflating: /content/RandLA-Net/data/S3DIS/Datathon/Area_2/scene_2/Annotations/wall_4.txt  \n",
            "  inflating: /content/RandLA-Net/data/S3DIS/Datathon/Area_2/scene_2/Annotations/wall_5.txt  \n",
            "  inflating: /content/RandLA-Net/data/S3DIS/Datathon/Area_2/scene_2/Annotations/window_1.txt  \n",
            "  inflating: /content/RandLA-Net/data/S3DIS/Datathon/Area_2/scene_2/Annotations/window_10.txt  \n",
            "  inflating: /content/RandLA-Net/data/S3DIS/Datathon/Area_2/scene_2/Annotations/window_11.txt  \n",
            "  inflating: /content/RandLA-Net/data/S3DIS/Datathon/Area_2/scene_2/Annotations/window_12.txt  \n",
            "  inflating: /content/RandLA-Net/data/S3DIS/Datathon/Area_2/scene_2/Annotations/window_13.txt  \n",
            "  inflating: /content/RandLA-Net/data/S3DIS/Datathon/Area_2/scene_2/Annotations/window_14.txt  \n",
            "  inflating: /content/RandLA-Net/data/S3DIS/Datathon/Area_2/scene_2/Annotations/window_15.txt  \n",
            "  inflating: /content/RandLA-Net/data/S3DIS/Datathon/Area_2/scene_2/Annotations/window_16.txt  \n",
            "  inflating: /content/RandLA-Net/data/S3DIS/Datathon/Area_2/scene_2/Annotations/window_17.txt  \n",
            "  inflating: /content/RandLA-Net/data/S3DIS/Datathon/Area_2/scene_2/Annotations/window_18.txt  \n",
            "  inflating: /content/RandLA-Net/data/S3DIS/Datathon/Area_2/scene_2/Annotations/window_19.txt  \n",
            "  inflating: /content/RandLA-Net/data/S3DIS/Datathon/Area_2/scene_2/Annotations/window_2.txt  \n",
            "  inflating: /content/RandLA-Net/data/S3DIS/Datathon/Area_2/scene_2/Annotations/window_20.txt  \n",
            "  inflating: /content/RandLA-Net/data/S3DIS/Datathon/Area_2/scene_2/Annotations/window_21.txt  \n",
            "  inflating: /content/RandLA-Net/data/S3DIS/Datathon/Area_2/scene_2/Annotations/window_22.txt  \n",
            "  inflating: /content/RandLA-Net/data/S3DIS/Datathon/Area_2/scene_2/Annotations/window_23.txt  \n",
            "  inflating: /content/RandLA-Net/data/S3DIS/Datathon/Area_2/scene_2/Annotations/window_24.txt  \n",
            "  inflating: /content/RandLA-Net/data/S3DIS/Datathon/Area_2/scene_2/Annotations/window_25.txt  \n",
            "  inflating: /content/RandLA-Net/data/S3DIS/Datathon/Area_2/scene_2/Annotations/window_26.txt  \n",
            "  inflating: /content/RandLA-Net/data/S3DIS/Datathon/Area_2/scene_2/Annotations/window_27.txt  \n",
            "  inflating: /content/RandLA-Net/data/S3DIS/Datathon/Area_2/scene_2/Annotations/window_28.txt  \n",
            "  inflating: /content/RandLA-Net/data/S3DIS/Datathon/Area_2/scene_2/Annotations/window_29.txt  \n",
            "  inflating: /content/RandLA-Net/data/S3DIS/Datathon/Area_2/scene_2/Annotations/window_3.txt  \n",
            "  inflating: /content/RandLA-Net/data/S3DIS/Datathon/Area_2/scene_2/Annotations/window_30.txt  \n",
            "  inflating: /content/RandLA-Net/data/S3DIS/Datathon/Area_2/scene_2/Annotations/window_31.txt  \n",
            "  inflating: /content/RandLA-Net/data/S3DIS/Datathon/Area_2/scene_2/Annotations/window_32.txt  \n",
            "  inflating: /content/RandLA-Net/data/S3DIS/Datathon/Area_2/scene_2/Annotations/window_33.txt  \n",
            "  inflating: /content/RandLA-Net/data/S3DIS/Datathon/Area_2/scene_2/Annotations/window_34.txt  \n",
            "  inflating: /content/RandLA-Net/data/S3DIS/Datathon/Area_2/scene_2/Annotations/window_35.txt  \n",
            "  inflating: /content/RandLA-Net/data/S3DIS/Datathon/Area_2/scene_2/Annotations/window_36.txt  \n",
            "  inflating: /content/RandLA-Net/data/S3DIS/Datathon/Area_2/scene_2/Annotations/window_37.txt  \n",
            "  inflating: /content/RandLA-Net/data/S3DIS/Datathon/Area_2/scene_2/Annotations/window_38.txt  \n",
            "  inflating: /content/RandLA-Net/data/S3DIS/Datathon/Area_2/scene_2/Annotations/window_39.txt  \n",
            "  inflating: /content/RandLA-Net/data/S3DIS/Datathon/Area_2/scene_2/Annotations/window_4.txt  \n",
            "  inflating: /content/RandLA-Net/data/S3DIS/Datathon/Area_2/scene_2/Annotations/window_40.txt  \n",
            "  inflating: /content/RandLA-Net/data/S3DIS/Datathon/Area_2/scene_2/Annotations/window_41.txt  \n",
            "  inflating: /content/RandLA-Net/data/S3DIS/Datathon/Area_2/scene_2/Annotations/window_42.txt  \n",
            "  inflating: /content/RandLA-Net/data/S3DIS/Datathon/Area_2/scene_2/Annotations/window_43.txt  \n",
            "  inflating: /content/RandLA-Net/data/S3DIS/Datathon/Area_2/scene_2/Annotations/window_44.txt  \n",
            "  inflating: /content/RandLA-Net/data/S3DIS/Datathon/Area_2/scene_2/Annotations/window_45.txt  \n",
            "  inflating: /content/RandLA-Net/data/S3DIS/Datathon/Area_2/scene_2/Annotations/window_46.txt  \n",
            "  inflating: /content/RandLA-Net/data/S3DIS/Datathon/Area_2/scene_2/Annotations/window_47.txt  \n",
            "  inflating: /content/RandLA-Net/data/S3DIS/Datathon/Area_2/scene_2/Annotations/window_48.txt  \n",
            "  inflating: /content/RandLA-Net/data/S3DIS/Datathon/Area_2/scene_2/Annotations/window_49.txt  \n",
            "  inflating: /content/RandLA-Net/data/S3DIS/Datathon/Area_2/scene_2/Annotations/window_5.txt  \n",
            "  inflating: /content/RandLA-Net/data/S3DIS/Datathon/Area_2/scene_2/Annotations/window_50.txt  \n",
            "  inflating: /content/RandLA-Net/data/S3DIS/Datathon/Area_2/scene_2/Annotations/window_51.txt  \n",
            "  inflating: /content/RandLA-Net/data/S3DIS/Datathon/Area_2/scene_2/Annotations/window_52.txt  \n",
            "  inflating: /content/RandLA-Net/data/S3DIS/Datathon/Area_2/scene_2/Annotations/window_53.txt  \n",
            "  inflating: /content/RandLA-Net/data/S3DIS/Datathon/Area_2/scene_2/Annotations/window_54.txt  \n",
            "  inflating: /content/RandLA-Net/data/S3DIS/Datathon/Area_2/scene_2/Annotations/window_55.txt  \n",
            "  inflating: /content/RandLA-Net/data/S3DIS/Datathon/Area_2/scene_2/Annotations/window_56.txt  \n",
            "  inflating: /content/RandLA-Net/data/S3DIS/Datathon/Area_2/scene_2/Annotations/window_57.txt  \n",
            "  inflating: /content/RandLA-Net/data/S3DIS/Datathon/Area_2/scene_2/Annotations/window_58.txt  \n",
            "  inflating: /content/RandLA-Net/data/S3DIS/Datathon/Area_2/scene_2/Annotations/window_59.txt  \n",
            "  inflating: /content/RandLA-Net/data/S3DIS/Datathon/Area_2/scene_2/Annotations/window_6.txt  \n",
            "  inflating: /content/RandLA-Net/data/S3DIS/Datathon/Area_2/scene_2/Annotations/window_60.txt  \n",
            "  inflating: /content/RandLA-Net/data/S3DIS/Datathon/Area_2/scene_2/Annotations/window_61.txt  \n",
            "  inflating: /content/RandLA-Net/data/S3DIS/Datathon/Area_2/scene_2/Annotations/window_62.txt  \n",
            "  inflating: /content/RandLA-Net/data/S3DIS/Datathon/Area_2/scene_2/Annotations/window_63.txt  \n",
            "  inflating: /content/RandLA-Net/data/S3DIS/Datathon/Area_2/scene_2/Annotations/window_64.txt  \n",
            "  inflating: /content/RandLA-Net/data/S3DIS/Datathon/Area_2/scene_2/Annotations/window_65.txt  \n",
            "  inflating: /content/RandLA-Net/data/S3DIS/Datathon/Area_2/scene_2/Annotations/window_66.txt  \n",
            "  inflating: /content/RandLA-Net/data/S3DIS/Datathon/Area_2/scene_2/Annotations/window_67.txt  \n",
            "  inflating: /content/RandLA-Net/data/S3DIS/Datathon/Area_2/scene_2/Annotations/window_68.txt  \n",
            "  inflating: /content/RandLA-Net/data/S3DIS/Datathon/Area_2/scene_2/Annotations/window_69.txt  \n",
            "  inflating: /content/RandLA-Net/data/S3DIS/Datathon/Area_2/scene_2/Annotations/window_7.txt  \n",
            "  inflating: /content/RandLA-Net/data/S3DIS/Datathon/Area_2/scene_2/Annotations/window_70.txt  \n",
            "  inflating: /content/RandLA-Net/data/S3DIS/Datathon/Area_2/scene_2/Annotations/window_71.txt  \n",
            "  inflating: /content/RandLA-Net/data/S3DIS/Datathon/Area_2/scene_2/Annotations/window_72.txt  \n",
            "  inflating: /content/RandLA-Net/data/S3DIS/Datathon/Area_2/scene_2/Annotations/window_73.txt  \n",
            "  inflating: /content/RandLA-Net/data/S3DIS/Datathon/Area_2/scene_2/Annotations/window_74.txt  \n",
            "  inflating: /content/RandLA-Net/data/S3DIS/Datathon/Area_2/scene_2/Annotations/window_75.txt  \n",
            "  inflating: /content/RandLA-Net/data/S3DIS/Datathon/Area_2/scene_2/Annotations/window_76.txt  \n",
            "  inflating: /content/RandLA-Net/data/S3DIS/Datathon/Area_2/scene_2/Annotations/window_77.txt  \n",
            "  inflating: /content/RandLA-Net/data/S3DIS/Datathon/Area_2/scene_2/Annotations/window_78.txt  \n",
            "  inflating: /content/RandLA-Net/data/S3DIS/Datathon/Area_2/scene_2/Annotations/window_79.txt  \n",
            "  inflating: /content/RandLA-Net/data/S3DIS/Datathon/Area_2/scene_2/Annotations/window_8.txt  \n",
            "  inflating: /content/RandLA-Net/data/S3DIS/Datathon/Area_2/scene_2/Annotations/window_80.txt  \n",
            "  inflating: /content/RandLA-Net/data/S3DIS/Datathon/Area_2/scene_2/Annotations/window_81.txt  \n",
            "  inflating: /content/RandLA-Net/data/S3DIS/Datathon/Area_2/scene_2/Annotations/window_82.txt  \n",
            "  inflating: /content/RandLA-Net/data/S3DIS/Datathon/Area_2/scene_2/Annotations/window_83.txt  \n",
            "  inflating: /content/RandLA-Net/data/S3DIS/Datathon/Area_2/scene_2/Annotations/window_84.txt  \n",
            "  inflating: /content/RandLA-Net/data/S3DIS/Datathon/Area_2/scene_2/Annotations/window_85.txt  \n",
            "  inflating: /content/RandLA-Net/data/S3DIS/Datathon/Area_2/scene_2/Annotations/window_86.txt  \n",
            "  inflating: /content/RandLA-Net/data/S3DIS/Datathon/Area_2/scene_2/Annotations/window_87.txt  \n",
            "  inflating: /content/RandLA-Net/data/S3DIS/Datathon/Area_2/scene_2/Annotations/window_88.txt  \n",
            "  inflating: /content/RandLA-Net/data/S3DIS/Datathon/Area_2/scene_2/Annotations/window_89.txt  \n",
            "  inflating: /content/RandLA-Net/data/S3DIS/Datathon/Area_2/scene_2/Annotations/window_9.txt  \n",
            "  inflating: /content/RandLA-Net/data/S3DIS/Datathon/Area_2/scene_2/Annotations/window_90.txt  \n",
            "  inflating: /content/RandLA-Net/data/S3DIS/Datathon/Area_2/scene_2/Annotations/window_91.txt  \n",
            "  inflating: /content/RandLA-Net/data/S3DIS/Datathon/Area_2/scene_2/scene_2.txt  \n"
          ]
        }
      ]
    },
    {
      "cell_type": "code",
      "metadata": {
        "colab": {
          "base_uri": "https://localhost:8080/"
        },
        "id": "PH2ZteCoUDFW",
        "outputId": "b2528b4d-6b59-4da3-fae0-df5feaea937c"
      },
      "source": [
        "from google.colab import drive\n",
        "drive.mount('/content/drive')"
      ],
      "execution_count": null,
      "outputs": [
        {
          "output_type": "stream",
          "name": "stdout",
          "text": [
            "Mounted at /content/drive\n"
          ]
        }
      ]
    },
    {
      "cell_type": "markdown",
      "metadata": {
        "id": "cgiOgheKrLO0"
      },
      "source": [
        "import utils.nearest_neighbors.lib.python.nearest_neighbors as nearest_neighbors"
      ]
    },
    {
      "cell_type": "code",
      "metadata": {
        "colab": {
          "base_uri": "https://localhost:8080/"
        },
        "id": "6zioTAzecDk7",
        "outputId": "4f10a68b-c05a-4418-9f86-38931bf8ed20"
      },
      "source": [
        "!python utils/data_prepare_s3dis.py"
      ],
      "execution_count": null,
      "outputs": [
        {
          "output_type": "stream",
          "name": "stdout",
          "text": [
            "/content/RandLA-Net/data/S3DIS/Datathon/Area_1/scene_1/Annotations\n",
            "/content/RandLA-Net/data/S3DIS/Datathon/Area_2/scene_2/Annotations\n",
            "/content/RandLA-Net/data/S3DIS/Datathon/Area_3/scene_3/Annotations\n",
            "/content/RandLA-Net/data/S3DIS/Datathon/Area_4/scene_4/Annotations\n",
            "/content/RandLA-Net/data/S3DIS/Datathon/Area_5/scene_5/Annotations\n",
            "/content/RandLA-Net/data/S3DIS/Datathon/Area_6/scene_6/Annotations\n"
          ]
        }
      ]
    },
    {
      "cell_type": "code",
      "metadata": {
        "id": "6wwZSuLzvlB0"
      },
      "source": [
        ""
      ],
      "execution_count": null,
      "outputs": []
    },
    {
      "cell_type": "code",
      "metadata": {
        "colab": {
          "base_uri": "https://localhost:8080/"
        },
        "id": "EkLe8cJ63fKL",
        "outputId": "3cfe92b9-16ab-4dfc-c076-a11b63261074"
      },
      "source": [
        "!python main_S3DIS.py --mode train --gpu 0"
      ],
      "execution_count": null,
      "outputs": [
        {
          "output_type": "stream",
          "name": "stdout",
          "text": [
            "Area_3_scene_3_KDTree.pkl 119.8 MB loaded in 0.3s\n",
            "Area_4_scene_4_KDTree.pkl 19.0 MB loaded in 0.0s\n",
            "Area_1_scene_1_KDTree.pkl 21.1 MB loaded in 0.0s\n",
            "Area_2_scene_2_KDTree.pkl 38.5 MB loaded in 0.1s\n",
            "Area_6_scene_6_KDTree.pkl 38.5 MB loaded in 0.1s\n",
            "Area_5_scene_5_KDTree.pkl 21.1 MB loaded in 0.0s\n",
            "\n",
            "Preparing reprojected indices for testing\n",
            "Area_5_scene_5 done in 0.0s\n",
            "Initiating input pipelines\n",
            "WARNING:tensorflow:From main_S3DIS.py:170: py_func (from tensorflow.python.ops.script_ops) is deprecated and will be removed in a future version.\n",
            "Instructions for updating:\n",
            "tf.py_func is deprecated in TF V2. Instead, there are two\n",
            "    options available in V2.\n",
            "    - tf.py_function takes a python function which manipulates tf eager\n",
            "    tensors instead of numpy arrays. It's easy to convert a tf eager tensor to\n",
            "    an ndarray (just call tensor.numpy()) but having access to eager tensors\n",
            "    means `tf.py_function`s can use accelerators such as GPUs as well as\n",
            "    being differentiable using a gradient tape.\n",
            "    - tf.numpy_function maintains the semantics of the deprecated tf.py_func\n",
            "    (it is not differentiable, and manipulates numpy arrays). It drops the\n",
            "    stateful argument making all functions stateful.\n",
            "    \n",
            "WARNING:tensorflow:From main_S3DIS.py:205: The name tf.data.Iterator is deprecated. Please use tf.compat.v1.data.Iterator instead.\n",
            "\n",
            "WARNING:tensorflow:From main_S3DIS.py:205: DatasetV1.output_types (from tensorflow.python.data.ops.dataset_ops) is deprecated and will be removed in a future version.\n",
            "Instructions for updating:\n",
            "Use `tf.compat.v1.data.get_output_types(dataset)`.\n",
            "WARNING:tensorflow:From main_S3DIS.py:205: DatasetV1.output_shapes (from tensorflow.python.data.ops.dataset_ops) is deprecated and will be removed in a future version.\n",
            "Instructions for updating:\n",
            "Use `tf.compat.v1.data.get_output_shapes(dataset)`.\n",
            "WARNING:tensorflow:From /usr/local/lib/python3.7/dist-packages/tensorflow_core/python/data/ops/iterator_ops.py:347: Iterator.output_types (from tensorflow.python.data.ops.iterator_ops) is deprecated and will be removed in a future version.\n",
            "Instructions for updating:\n",
            "Use `tf.compat.v1.data.get_output_types(iterator)`.\n",
            "WARNING:tensorflow:From /usr/local/lib/python3.7/dist-packages/tensorflow_core/python/data/ops/iterator_ops.py:348: Iterator.output_shapes (from tensorflow.python.data.ops.iterator_ops) is deprecated and will be removed in a future version.\n",
            "Instructions for updating:\n",
            "Use `tf.compat.v1.data.get_output_shapes(iterator)`.\n",
            "WARNING:tensorflow:From /usr/local/lib/python3.7/dist-packages/tensorflow_core/python/data/ops/iterator_ops.py:350: Iterator.output_classes (from tensorflow.python.data.ops.iterator_ops) is deprecated and will be removed in a future version.\n",
            "Instructions for updating:\n",
            "Use `tf.compat.v1.data.get_output_classes(iterator)`.\n",
            "WARNING:tensorflow:From /content/RandLA-Net/RandLANet.py:29: The name tf.variable_scope is deprecated. Please use tf.compat.v1.variable_scope instead.\n",
            "\n",
            "WARNING:tensorflow:From /content/RandLA-Net/RandLANet.py:42: The name tf.placeholder is deprecated. Please use tf.compat.v1.placeholder instead.\n",
            "\n",
            "WARNING:tensorflow:From /content/RandLA-Net/RandLANet.py:107: dense (from tensorflow.python.layers.core) is deprecated and will be removed in a future version.\n",
            "Instructions for updating:\n",
            "Use keras.layers.Dense instead.\n",
            "WARNING:tensorflow:From /usr/local/lib/python3.7/dist-packages/tensorflow_core/python/layers/core.py:187: Layer.apply (from tensorflow.python.keras.engine.base_layer) is deprecated and will be removed in a future version.\n",
            "Instructions for updating:\n",
            "Please use `layer.__call__` method instead.\n",
            "WARNING:tensorflow:From /content/RandLA-Net/RandLANet.py:108: batch_normalization (from tensorflow.python.layers.normalization) is deprecated and will be removed in a future version.\n",
            "Instructions for updating:\n",
            "Use keras.layers.BatchNormalization instead.  In particular, `tf.control_dependencies(tf.GraphKeys.UPDATE_OPS)` should not be used (consult the `tf.keras.layers.batch_normalization` documentation).\n",
            "WARNING:tensorflow:From /content/RandLA-Net/helper_tf_util.py:49: The name tf.truncated_normal is deprecated. Please use tf.random.truncated_normal instead.\n",
            "\n",
            "WARNING:tensorflow:From /content/RandLA-Net/helper_tf_util.py:54: The name tf.add_to_collection is deprecated. Please use tf.compat.v1.add_to_collection instead.\n",
            "\n",
            "WARNING:tensorflow:From /content/RandLA-Net/helper_tf_util.py:22: The name tf.get_variable is deprecated. Please use tf.compat.v1.get_variable instead.\n",
            "\n",
            "WARNING:tensorflow:From /usr/local/lib/python3.7/dist-packages/tensorflow_core/python/util/dispatch.py:180: batch_gather (from tensorflow.python.ops.array_ops) is deprecated and will be removed after 2017-10-25.\n",
            "Instructions for updating:\n",
            "`tf.batch_gather` is deprecated, please use `tf.gather` with `batch_dims=-1` instead.\n",
            "WARNING:tensorflow:From /content/RandLA-Net/helper_tf_util.py:572: calling dropout (from tensorflow.python.ops.nn_ops) with keep_prob is deprecated and will be removed in a future version.\n",
            "Instructions for updating:\n",
            "Please use `rate` instead of `keep_prob`. Rate should be set to `rate = 1 - keep_prob`.\n",
            "WARNING:tensorflow:From /content/RandLA-Net/RandLANet.py:67: where (from tensorflow.python.ops.array_ops) is deprecated and will be removed in a future version.\n",
            "Instructions for updating:\n",
            "Use tf.where in 2.0, which has the same broadcast rule as np.where\n",
            "WARNING:tensorflow:From /content/RandLA-Net/RandLANet.py:265: softmax_cross_entropy_with_logits (from tensorflow.python.ops.nn_ops) is deprecated and will be removed in a future version.\n",
            "Instructions for updating:\n",
            "\n",
            "Future major versions of TensorFlow will allow gradients to flow\n",
            "into the labels input on backprop by default.\n",
            "\n",
            "See `tf.nn.softmax_cross_entropy_with_logits_v2`.\n",
            "\n",
            "WARNING:tensorflow:From /content/RandLA-Net/RandLANet.py:82: The name tf.train.AdamOptimizer is deprecated. Please use tf.compat.v1.train.AdamOptimizer instead.\n",
            "\n",
            "WARNING:tensorflow:From /content/RandLA-Net/RandLANet.py:83: The name tf.get_collection is deprecated. Please use tf.compat.v1.get_collection instead.\n",
            "\n",
            "WARNING:tensorflow:From /content/RandLA-Net/RandLANet.py:83: The name tf.GraphKeys is deprecated. Please use tf.compat.v1.GraphKeys instead.\n",
            "\n",
            "WARNING:tensorflow:From /content/RandLA-Net/RandLANet.py:90: The name tf.summary.scalar is deprecated. Please use tf.compat.v1.summary.scalar instead.\n",
            "\n",
            "WARNING:tensorflow:From /content/RandLA-Net/RandLANet.py:95: The name tf.train.Saver is deprecated. Please use tf.compat.v1.train.Saver instead.\n",
            "\n",
            "WARNING:tensorflow:From /content/RandLA-Net/RandLANet.py:96: The name tf.ConfigProto is deprecated. Please use tf.compat.v1.ConfigProto instead.\n",
            "\n",
            "WARNING:tensorflow:From /content/RandLA-Net/RandLANet.py:98: The name tf.Session is deprecated. Please use tf.compat.v1.Session instead.\n",
            "\n",
            "WARNING:tensorflow:From /content/RandLA-Net/RandLANet.py:99: The name tf.summary.merge_all is deprecated. Please use tf.compat.v1.summary.merge_all instead.\n",
            "\n",
            "WARNING:tensorflow:From /content/RandLA-Net/RandLANet.py:100: The name tf.summary.FileWriter is deprecated. Please use tf.compat.v1.summary.FileWriter instead.\n",
            "\n",
            "WARNING:tensorflow:From /content/RandLA-Net/RandLANet.py:101: The name tf.global_variables_initializer is deprecated. Please use tf.compat.v1.global_variables_initializer instead.\n",
            "\n",
            "****EPOCH 0****\n",
            "Step 00000050 L_out=6.881 Acc=0.14 --- 1580.51 ms/batch\n",
            "Step 00000100 L_out=6.971 Acc=0.40 --- 1589.74 ms/batch\n",
            "Step 00000150 L_out=6.021 Acc=0.31 --- 1584.48 ms/batch\n",
            "Step 00000200 L_out=5.763 Acc=0.19 --- 1573.80 ms/batch\n",
            "Step 00000250 L_out=6.369 Acc=0.38 --- 1553.62 ms/batch\n",
            "0 / 100\n",
            "50 / 100\n",
            "eval accuracy: 0.27831798095703125\n",
            "mean IOU:0.06957949523925781\n",
            "Mean IoU = 7.0%\n",
            "--------------------------------\n",
            " 6.96 |  0.00  0.00 27.83  0.00 \n",
            "--------------------------------\n",
            "\n",
            "Best m_IoU is: 6.958\n",
            "****EPOCH 1****\n",
            "Step 00000300 L_out=6.268 Acc=0.26 --- 1596.53 ms/batch\n",
            "Step 00000350 L_out=5.271 Acc=0.36 --- 1578.35 ms/batch\n",
            "Step 00000400 L_out=6.177 Acc=0.40 --- 1563.65 ms/batch\n",
            "Step 00000450 L_out=5.742 Acc=0.30 --- 1582.98 ms/batch\n",
            "Step 00000500 L_out=5.706 Acc=0.16 --- 1554.91 ms/batch\n",
            "0 / 100\n",
            "50 / 100\n",
            "eval accuracy: 0.2761966064453125\n",
            "mean IOU:0.06904915161132813\n",
            "Mean IoU = 6.9%\n",
            "--------------------------------\n",
            " 6.90 |  0.00  0.00 27.62  0.00 \n",
            "--------------------------------\n",
            "\n",
            "Best m_IoU is: 6.958\n",
            "****EPOCH 2****\n",
            "Step 00000550 L_out=5.204 Acc=0.21 --- 1562.99 ms/batch\n",
            "Step 00000600 L_out=5.120 Acc=0.41 --- 1592.79 ms/batch\n",
            "Step 00000650 L_out=5.278 Acc=0.23 --- 1603.90 ms/batch\n",
            "Step 00000700 L_out=4.993 Acc=0.18 --- 1597.11 ms/batch\n",
            "Step 00000750 L_out=7.491 Acc=0.33 --- 1542.70 ms/batch\n",
            "0 / 100\n",
            "50 / 100\n",
            "eval accuracy: 0.27658995361328126\n",
            "mean IOU:0.06914748840332031\n",
            "Mean IoU = 6.9%\n",
            "--------------------------------\n",
            " 6.91 |  0.00  0.00 27.66  0.00 \n",
            "--------------------------------\n",
            "\n",
            "Best m_IoU is: 6.958\n",
            "****EPOCH 3****\n",
            "Step 00000800 L_out=5.187 Acc=0.28 --- 1563.12 ms/batch\n",
            "Step 00000850 L_out=6.989 Acc=0.21 --- 1536.42 ms/batch\n",
            "Step 00000900 L_out=5.497 Acc=0.10 --- 1559.29 ms/batch\n",
            "Step 00000950 L_out=5.731 Acc=0.44 --- 1557.45 ms/batch\n",
            "Step 00001000 L_out=5.022 Acc=0.26 --- 1565.00 ms/batch\n",
            "0 / 100\n",
            "50 / 100\n",
            "eval accuracy: 0.2773591064453125\n",
            "mean IOU:0.06933977661132812\n",
            "Mean IoU = 6.9%\n",
            "--------------------------------\n",
            " 6.93 |  0.00  0.00 27.74  0.00 \n",
            "--------------------------------\n",
            "\n",
            "Best m_IoU is: 6.958\n",
            "****EPOCH 4****\n",
            "Step 00001050 L_out=4.736 Acc=0.21 --- 1603.28 ms/batch\n",
            "Step 00001100 L_out=6.674 Acc=0.40 --- 1554.39 ms/batch\n",
            "Step 00001150 L_out=5.864 Acc=0.20 --- 1591.11 ms/batch\n",
            "Step 00001200 L_out=7.498 Acc=0.40 --- 1598.72 ms/batch\n",
            "Step 00001250 L_out=4.522 Acc=0.24 --- 1554.64 ms/batch\n",
            "0 / 100\n",
            "50 / 100\n",
            "eval accuracy: 0.37160499267578123\n",
            "mean IOU:0.12319534981245328\n",
            "Mean IoU = 12.3%\n",
            "--------------------------------\n",
            "12.32 | 19.01  0.00 30.26  0.00 \n",
            "--------------------------------\n",
            "\n",
            "Best m_IoU is: 12.320\n",
            "****EPOCH 5****\n",
            "Step 00001300 L_out=6.767 Acc=0.35 --- 1588.39 ms/batch\n",
            "Step 00001350 L_out=6.586 Acc=0.39 --- 1567.92 ms/batch\n",
            "Step 00001400 L_out=5.232 Acc=0.40 --- 1578.11 ms/batch\n",
            "Step 00001450 L_out=4.899 Acc=0.43 --- 1587.38 ms/batch\n",
            "Step 00001500 L_out=4.857 Acc=0.33 --- 1551.66 ms/batch\n",
            "0 / 100\n",
            "50 / 100\n",
            "eval accuracy: 0.3899115966796875\n",
            "mean IOU:0.15227460956457523\n",
            "Mean IoU = 15.2%\n",
            "--------------------------------\n",
            "15.23 | 18.96 10.31 31.63  0.00 \n",
            "--------------------------------\n",
            "\n",
            "Best m_IoU is: 15.227\n",
            "****EPOCH 6****\n",
            "Step 00001550 L_out=6.303 Acc=0.25 --- 1564.89 ms/batch\n",
            "Step 00001600 L_out=5.169 Acc=0.25 --- 1572.92 ms/batch\n",
            "Step 00001650 L_out=4.859 Acc=0.34 --- 1570.63 ms/batch\n",
            "Step 00001700 L_out=5.248 Acc=0.27 --- 1590.52 ms/batch\n",
            "Step 00001750 L_out=7.639 Acc=0.45 --- 1532.39 ms/batch\n",
            "0 / 100\n",
            "50 / 100\n",
            "eval accuracy: 0.40645753173828125\n",
            "mean IOU:0.1462498862363073\n",
            "Mean IoU = 14.6%\n",
            "--------------------------------\n",
            "14.62 | 25.73  1.65 31.12  0.00 \n",
            "--------------------------------\n",
            "\n",
            "Best m_IoU is: 15.227\n",
            "****EPOCH 7****\n",
            "Step 00001800 L_out=6.462 Acc=0.21 --- 1568.96 ms/batch\n",
            "Step 00001850 L_out=7.000 Acc=0.47 --- 1575.90 ms/batch\n",
            "Step 00001900 L_out=4.074 Acc=0.41 --- 1591.50 ms/batch\n",
            "Step 00001950 L_out=5.321 Acc=0.40 --- 1621.68 ms/batch\n",
            "Step 00002000 L_out=6.113 Acc=0.30 --- 1563.08 ms/batch\n",
            "0 / 100\n",
            "50 / 100\n",
            "eval accuracy: 0.3585744140625\n",
            "mean IOU:0.11905451793109553\n",
            "Mean IoU = 11.9%\n",
            "--------------------------------\n",
            "11.91 | 15.51  1.49 30.62  0.00 \n",
            "--------------------------------\n",
            "\n",
            "Best m_IoU is: 15.227\n",
            "****EPOCH 8****\n",
            "Step 00002050 L_out=4.845 Acc=0.33 --- 1578.97 ms/batch\n",
            "Step 00002100 L_out=4.308 Acc=0.29 --- 1568.72 ms/batch\n",
            "Step 00002150 L_out=4.497 Acc=0.45 --- 1570.75 ms/batch\n",
            "Step 00002200 L_out=4.702 Acc=0.28 --- 1568.26 ms/batch\n",
            "Step 00002250 L_out=6.887 Acc=0.42 --- 1553.71 ms/batch\n",
            "0 / 100\n",
            "50 / 100\n",
            "eval accuracy: 0.45374117431640626\n",
            "mean IOU:0.17199639320516485\n",
            "Mean IoU = 17.2%\n",
            "--------------------------------\n",
            "17.20 | 33.93  1.85 33.02  0.00 \n",
            "--------------------------------\n",
            "\n",
            "Best m_IoU is: 17.200\n",
            "****EPOCH 9****\n",
            "Step 00002300 L_out=5.278 Acc=0.24 --- 1583.22 ms/batch\n",
            "Step 00002350 L_out=3.821 Acc=0.49 --- 1573.67 ms/batch\n",
            "Step 00002400 L_out=3.744 Acc=0.36 --- 1593.62 ms/batch\n",
            "Step 00002450 L_out=6.529 Acc=0.37 --- 1577.97 ms/batch\n",
            "Step 00002500 L_out=7.294 Acc=0.32 --- 1559.56 ms/batch\n",
            "0 / 100\n",
            "50 / 100\n",
            "eval accuracy: 0.4827146240234375\n",
            "mean IOU:0.2234608096919136\n",
            "Mean IoU = 22.3%\n",
            "--------------------------------\n",
            "22.35 | 37.52 15.59 35.45  0.83 \n",
            "--------------------------------\n",
            "\n",
            "Best m_IoU is: 22.346\n",
            "****EPOCH 10****\n",
            "Step 00002550 L_out=5.195 Acc=0.43 --- 1583.87 ms/batch\n",
            "Step 00002600 L_out=4.241 Acc=0.48 --- 1575.41 ms/batch\n",
            "Step 00002650 L_out=5.290 Acc=0.34 --- 1585.78 ms/batch\n",
            "Step 00002700 L_out=5.124 Acc=0.40 --- 1567.09 ms/batch\n",
            "Step 00002750 L_out=4.055 Acc=0.41 --- 1550.81 ms/batch\n",
            "0 / 100\n",
            "50 / 100\n",
            "eval accuracy: 0.47086680908203127\n",
            "mean IOU:0.2065391705026386\n",
            "Mean IoU = 20.7%\n",
            "--------------------------------\n",
            "20.65 | 36.13  7.45 34.42  4.62 \n",
            "--------------------------------\n",
            "\n",
            "Best m_IoU is: 22.346\n",
            "****EPOCH 11****\n",
            "Step 00002800 L_out=5.132 Acc=0.70 --- 1567.97 ms/batch\n",
            "Step 00002850 L_out=3.884 Acc=0.37 --- 1582.22 ms/batch\n",
            "Step 00002900 L_out=5.137 Acc=0.43 --- 1579.75 ms/batch\n",
            "Step 00002950 L_out=6.243 Acc=0.32 --- 1581.19 ms/batch\n",
            "Step 00003000 L_out=4.004 Acc=0.33 --- 1559.79 ms/batch\n",
            "0 / 100\n",
            "50 / 100\n",
            "eval accuracy: 0.4971219970703125\n",
            "mean IOU:0.22264525557868683\n",
            "Mean IoU = 22.3%\n",
            "--------------------------------\n",
            "22.26 | 38.90  9.06 37.58  3.52 \n",
            "--------------------------------\n",
            "\n",
            "Best m_IoU is: 22.346\n",
            "****EPOCH 12****\n",
            "Step 00003050 L_out=4.245 Acc=0.57 --- 1564.19 ms/batch\n",
            "Step 00003100 L_out=6.497 Acc=0.56 --- 1589.60 ms/batch\n",
            "Step 00003150 L_out=4.753 Acc=0.54 --- 1581.44 ms/batch\n",
            "Step 00003200 L_out=5.279 Acc=0.50 --- 1570.18 ms/batch\n",
            "Step 00003250 L_out=3.593 Acc=0.55 --- 1549.83 ms/batch\n",
            "0 / 100\n",
            "50 / 100\n",
            "eval accuracy: 0.455911083984375\n",
            "mean IOU:0.2252228346534383\n",
            "Mean IoU = 22.5%\n",
            "--------------------------------\n",
            "22.52 | 31.69  4.89 34.43 19.08 \n",
            "--------------------------------\n",
            "\n",
            "Best m_IoU is: 22.522\n",
            "****EPOCH 13****\n",
            "Step 00003300 L_out=4.172 Acc=0.55 --- 1580.78 ms/batch\n",
            "Step 00003350 L_out=4.163 Acc=0.71 --- 1574.57 ms/batch\n",
            "Step 00003400 L_out=3.515 Acc=0.52 --- 1575.44 ms/batch\n",
            "Step 00003450 L_out=3.310 Acc=0.47 --- 1568.65 ms/batch\n",
            "Step 00003500 L_out=4.005 Acc=0.63 --- 1557.81 ms/batch\n",
            "0 / 100\n"
          ]
        }
      ]
    },
    {
      "cell_type": "markdown",
      "metadata": {
        "id": "zeKg4q8UO-WM"
      },
      "source": [
        ""
      ]
    },
    {
      "cell_type": "code",
      "metadata": {
        "colab": {
          "base_uri": "https://localhost:8080/"
        },
        "id": "vTz1ZK3bk4hw",
        "outputId": "eb8c4366-6451-4cbb-ba88-444c907e6aef"
      },
      "source": [
        "!python main_S3DIS.py --mode test --gpu 0"
      ],
      "execution_count": null,
      "outputs": [
        {
          "output_type": "stream",
          "name": "stdout",
          "text": [
            "Area_3_scene_3_KDTree.pkl 119.8 MB loaded in 0.3s\n",
            "Area_4_scene_4_KDTree.pkl 19.0 MB loaded in 0.0s\n",
            "Area_1_scene_1_KDTree.pkl 21.1 MB loaded in 0.0s\n",
            "Area_2_scene_2_KDTree.pkl 38.5 MB loaded in 0.1s\n",
            "Area_6_scene_6_KDTree.pkl 38.5 MB loaded in 0.1s\n",
            "Area_5_scene_5_KDTree.pkl 21.1 MB loaded in 0.0s\n",
            "\n",
            "Preparing reprojected indices for testing\n",
            "Area_5_scene_5 done in 0.0s\n",
            "Initiating input pipelines\n",
            "WARNING:tensorflow:From main_S3DIS.py:170: py_func (from tensorflow.python.ops.script_ops) is deprecated and will be removed in a future version.\n",
            "Instructions for updating:\n",
            "tf.py_func is deprecated in TF V2. Instead, there are two\n",
            "    options available in V2.\n",
            "    - tf.py_function takes a python function which manipulates tf eager\n",
            "    tensors instead of numpy arrays. It's easy to convert a tf eager tensor to\n",
            "    an ndarray (just call tensor.numpy()) but having access to eager tensors\n",
            "    means `tf.py_function`s can use accelerators such as GPUs as well as\n",
            "    being differentiable using a gradient tape.\n",
            "    - tf.numpy_function maintains the semantics of the deprecated tf.py_func\n",
            "    (it is not differentiable, and manipulates numpy arrays). It drops the\n",
            "    stateful argument making all functions stateful.\n",
            "    \n",
            "WARNING:tensorflow:From main_S3DIS.py:205: The name tf.data.Iterator is deprecated. Please use tf.compat.v1.data.Iterator instead.\n",
            "\n",
            "WARNING:tensorflow:From main_S3DIS.py:205: DatasetV1.output_types (from tensorflow.python.data.ops.dataset_ops) is deprecated and will be removed in a future version.\n",
            "Instructions for updating:\n",
            "Use `tf.compat.v1.data.get_output_types(dataset)`.\n",
            "WARNING:tensorflow:From main_S3DIS.py:205: DatasetV1.output_shapes (from tensorflow.python.data.ops.dataset_ops) is deprecated and will be removed in a future version.\n",
            "Instructions for updating:\n",
            "Use `tf.compat.v1.data.get_output_shapes(dataset)`.\n",
            "WARNING:tensorflow:From /usr/local/lib/python3.7/dist-packages/tensorflow_core/python/data/ops/iterator_ops.py:347: Iterator.output_types (from tensorflow.python.data.ops.iterator_ops) is deprecated and will be removed in a future version.\n",
            "Instructions for updating:\n",
            "Use `tf.compat.v1.data.get_output_types(iterator)`.\n",
            "WARNING:tensorflow:From /usr/local/lib/python3.7/dist-packages/tensorflow_core/python/data/ops/iterator_ops.py:348: Iterator.output_shapes (from tensorflow.python.data.ops.iterator_ops) is deprecated and will be removed in a future version.\n",
            "Instructions for updating:\n",
            "Use `tf.compat.v1.data.get_output_shapes(iterator)`.\n",
            "WARNING:tensorflow:From /usr/local/lib/python3.7/dist-packages/tensorflow_core/python/data/ops/iterator_ops.py:350: Iterator.output_classes (from tensorflow.python.data.ops.iterator_ops) is deprecated and will be removed in a future version.\n",
            "Instructions for updating:\n",
            "Use `tf.compat.v1.data.get_output_classes(iterator)`.\n",
            "WARNING:tensorflow:From /content/RandLA-Net/RandLANet.py:29: The name tf.variable_scope is deprecated. Please use tf.compat.v1.variable_scope instead.\n",
            "\n",
            "WARNING:tensorflow:From /content/RandLA-Net/RandLANet.py:42: The name tf.placeholder is deprecated. Please use tf.compat.v1.placeholder instead.\n",
            "\n",
            "WARNING:tensorflow:From /content/RandLA-Net/RandLANet.py:107: dense (from tensorflow.python.layers.core) is deprecated and will be removed in a future version.\n",
            "Instructions for updating:\n",
            "Use keras.layers.Dense instead.\n",
            "WARNING:tensorflow:From /usr/local/lib/python3.7/dist-packages/tensorflow_core/python/layers/core.py:187: Layer.apply (from tensorflow.python.keras.engine.base_layer) is deprecated and will be removed in a future version.\n",
            "Instructions for updating:\n",
            "Please use `layer.__call__` method instead.\n",
            "WARNING:tensorflow:From /content/RandLA-Net/RandLANet.py:108: batch_normalization (from tensorflow.python.layers.normalization) is deprecated and will be removed in a future version.\n",
            "Instructions for updating:\n",
            "Use keras.layers.BatchNormalization instead.  In particular, `tf.control_dependencies(tf.GraphKeys.UPDATE_OPS)` should not be used (consult the `tf.keras.layers.batch_normalization` documentation).\n",
            "WARNING:tensorflow:From /content/RandLA-Net/helper_tf_util.py:49: The name tf.truncated_normal is deprecated. Please use tf.random.truncated_normal instead.\n",
            "\n",
            "WARNING:tensorflow:From /content/RandLA-Net/helper_tf_util.py:54: The name tf.add_to_collection is deprecated. Please use tf.compat.v1.add_to_collection instead.\n",
            "\n",
            "WARNING:tensorflow:From /content/RandLA-Net/helper_tf_util.py:22: The name tf.get_variable is deprecated. Please use tf.compat.v1.get_variable instead.\n",
            "\n",
            "WARNING:tensorflow:From /usr/local/lib/python3.7/dist-packages/tensorflow_core/python/util/dispatch.py:180: batch_gather (from tensorflow.python.ops.array_ops) is deprecated and will be removed after 2017-10-25.\n",
            "Instructions for updating:\n",
            "`tf.batch_gather` is deprecated, please use `tf.gather` with `batch_dims=-1` instead.\n",
            "Traceback (most recent call last):\n",
            "  File \"/usr/local/lib/python3.7/dist-packages/tensorflow_core/python/framework/ops.py\", line 4139, in name_scope\n",
            "    yield \"\" if new_stack is None else new_stack + \"/\"\n",
            "  File \"/usr/local/lib/python3.7/dist-packages/tensorflow_core/python/framework/op_def_library.py\", line 794, in _apply_op_helper\n",
            "    op_def=op_def)\n",
            "  File \"/usr/local/lib/python3.7/dist-packages/tensorflow_core/python/util/deprecation.py\", line 507, in new_func\n",
            "    return func(*args, **kwargs)\n",
            "  File \"/usr/local/lib/python3.7/dist-packages/tensorflow_core/python/framework/ops.py\", line 3357, in create_op\n",
            "    attrs, op_def, compute_device)\n",
            "  File \"/usr/local/lib/python3.7/dist-packages/tensorflow_core/python/framework/ops.py\", line 3426, in _create_op_internal\n",
            "    op_def=op_def)\n",
            "  File \"/usr/local/lib/python3.7/dist-packages/tensorflow_core/python/framework/ops.py\", line 1783, in __init__\n",
            "    for i, output_type in enumerate(output_types)\n",
            "  File \"/usr/local/lib/python3.7/dist-packages/tensorflow_core/python/framework/ops.py\", line 1783, in <listcomp>\n",
            "    for i, output_type in enumerate(output_types)\n",
            "  File \"/usr/local/lib/python3.7/dist-packages/tensorflow_core/python/framework/ops.py\", line 386, in __init__\n",
            "    self._dtype = dtypes.as_dtype(dtype)\n",
            "  File \"/usr/local/lib/python3.7/dist-packages/tensorflow_core/python/framework/dtypes.py\", line 709, in as_dtype\n",
            "    if isinstance(type_value, np.dtype):\n",
            "KeyboardInterrupt\n",
            "\n",
            "During handling of the above exception, another exception occurred:\n",
            "\n",
            "Traceback (most recent call last):\n",
            "  File \"main_S3DIS.py\", line 233, in <module>\n",
            "    model = Network(dataset, cfg)\n",
            "  File \"/content/RandLA-Net/RandLANet.py\", line 52, in __init__\n",
            "    self.logits = self.inference(self.inputs, self.is_training)\n",
            "  File \"/content/RandLA-Net/RandLANet.py\", line 115, in inference\n",
            "    'Encoder_layer_' + str(i), is_training)\n",
            "  File \"/content/RandLA-Net/RandLANet.py\", line 272, in dilated_res_block\n",
            "    f_pc = self.building_block(xyz, f_pc, neigh_idx, d_out, name + 'LFA', is_training)\n",
            "  File \"/content/RandLA-Net/RandLANet.py\", line 287, in building_block\n",
            "    f_xyz = helper_tf_util.conv2d(f_xyz, d_out // 2, [1, 1], name + 'mlp2', [1, 1], 'VALID', True, is_training)\n",
            "  File \"/content/RandLA-Net/helper_tf_util.py\", line 167, in conv2d\n",
            "    outputs = tf.layers.batch_normalization(outputs, momentum=0.99, epsilon=1e-6, training=is_training)\n",
            "  File \"/usr/local/lib/python3.7/dist-packages/tensorflow_core/python/util/deprecation.py\", line 324, in new_func\n",
            "    return func(*args, **kwargs)\n",
            "  File \"/usr/local/lib/python3.7/dist-packages/tensorflow_core/python/layers/normalization.py\", line 327, in batch_normalization\n",
            "    return layer.apply(inputs, training=training)\n",
            "  File \"/usr/local/lib/python3.7/dist-packages/tensorflow_core/python/util/deprecation.py\", line 324, in new_func\n",
            "    return func(*args, **kwargs)\n",
            "  File \"/usr/local/lib/python3.7/dist-packages/tensorflow_core/python/keras/engine/base_layer.py\", line 1700, in apply\n",
            "    return self.__call__(inputs, *args, **kwargs)\n",
            "  File \"/usr/local/lib/python3.7/dist-packages/tensorflow_core/python/layers/base.py\", line 548, in __call__\n",
            "    outputs = super(Layer, self).__call__(inputs, *args, **kwargs)\n",
            "  File \"/usr/local/lib/python3.7/dist-packages/tensorflow_core/python/keras/engine/base_layer.py\", line 854, in __call__\n",
            "    outputs = call_fn(cast_inputs, *args, **kwargs)\n",
            "  File \"/usr/local/lib/python3.7/dist-packages/tensorflow_core/python/autograph/impl/api.py\", line 234, in wrapper\n",
            "    return converted_call(f, options, args, kwargs)\n",
            "  File \"/usr/local/lib/python3.7/dist-packages/tensorflow_core/python/autograph/impl/api.py\", line 439, in converted_call\n",
            "    return _call_unconverted(f, args, kwargs, options)\n",
            "  File \"/usr/local/lib/python3.7/dist-packages/tensorflow_core/python/autograph/impl/api.py\", line 330, in _call_unconverted\n",
            "    return f(*args, **kwargs)\n",
            "  File \"/usr/local/lib/python3.7/dist-packages/tensorflow_core/python/layers/normalization.py\", line 167, in call\n",
            "    return super(BatchNormalization, self).call(inputs, training=training)\n",
            "  File \"/usr/local/lib/python3.7/dist-packages/tensorflow_core/python/keras/layers/normalization.py\", line 659, in call\n",
            "    outputs = self._fused_batch_norm(inputs, training=training)\n",
            "  File \"/usr/local/lib/python3.7/dist-packages/tensorflow_core/python/keras/layers/normalization.py\", line 531, in _fused_batch_norm\n",
            "    lambda: 1.0)\n",
            "  File \"/usr/local/lib/python3.7/dist-packages/tensorflow_core/python/keras/utils/tf_utils.py\", line 59, in smart_cond\n",
            "    pred, true_fn=true_fn, false_fn=false_fn, name=name)\n",
            "  File \"/usr/local/lib/python3.7/dist-packages/tensorflow_core/python/framework/smart_cond.py\", line 59, in smart_cond\n",
            "    name=name)\n",
            "  File \"/usr/local/lib/python3.7/dist-packages/tensorflow_core/python/util/deprecation.py\", line 507, in new_func\n",
            "    return func(*args, **kwargs)\n",
            "  File \"/usr/local/lib/python3.7/dist-packages/tensorflow_core/python/ops/control_flow_ops.py\", line 1212, in cond\n",
            "    p_2, p_1 = switch(pred, pred)\n",
            "  File \"/usr/local/lib/python3.7/dist-packages/tensorflow_core/python/ops/control_flow_ops.py\", line 310, in switch\n",
            "    return gen_control_flow_ops.switch(data, pred, name=name)\n",
            "  File \"/usr/local/lib/python3.7/dist-packages/tensorflow_core/python/ops/gen_control_flow_ops.py\", line 937, in switch\n",
            "    \"Switch\", data=data, pred=pred, name=name)\n",
            "  File \"/usr/local/lib/python3.7/dist-packages/tensorflow_core/python/framework/op_def_library.py\", line 805, in _apply_op_helper\n",
            "    return output_structure, op_def.is_stateful, op\n",
            "  File \"/usr/local/lib/python3.7/dist-packages/tensorflow_core/python/framework/ops.py\", line 6358, in __exit__\n",
            "    self._name_scope.__exit__(type_arg, value_arg, traceback_arg)\n",
            "  File \"/usr/lib/python3.7/contextlib.py\", line 130, in __exit__\n",
            "    self.gen.throw(type, value, traceback)\n",
            "  File \"/usr/local/lib/python3.7/dist-packages/tensorflow_core/python/framework/ops.py\", line 4141, in name_scope\n",
            "    self._name_stack = old_stack\n",
            "  File \"/usr/local/lib/python3.7/dist-packages/tensorflow_core/python/framework/ops.py\", line 4027, in _name_stack\n",
            "    self._thread_local._name_stack = name_stack\n",
            "KeyboardInterrupt\n"
          ]
        }
      ]
    },
    {
      "cell_type": "code",
      "metadata": {
        "id": "-GUntSfZWeCx"
      },
      "source": [
        "#test"
      ],
      "execution_count": null,
      "outputs": []
    }
  ]
}